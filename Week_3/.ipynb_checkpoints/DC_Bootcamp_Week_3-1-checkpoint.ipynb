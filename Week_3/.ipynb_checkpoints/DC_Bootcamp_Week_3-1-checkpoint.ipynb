{
 "cells": [
  {
   "cell_type": "markdown",
   "metadata": {},
   "source": [
    "# Functions"
   ]
  },
  {
   "cell_type": "markdown",
   "metadata": {},
   "source": [
    "## Run The Following Code\n",
    "Hit SHIFT + ENTER when your cusor is inside the cell of code.<br/>"
   ]
  },
  {
   "cell_type": "markdown",
   "metadata": {},
   "source": [
    "> You define a function as follows:"
   ]
  },
  {
   "cell_type": "code",
   "execution_count": 1,
   "metadata": {
    "ExecuteTime": {
     "end_time": "2023-05-21T13:05:00.425828Z",
     "start_time": "2023-05-21T13:05:00.408540Z"
    }
   },
   "outputs": [],
   "source": [
    "def add(a, b):\n",
    "    c = a + b\n",
    "    return c"
   ]
  },
  {
   "cell_type": "markdown",
   "metadata": {},
   "source": [
    "> What you just did is to define a function called <b>add</b> that takes in two parameters <b>a</b> and <b>b</b>, and returns <b>c</b> which is a sum of the two parameters.\n",
    "> After defining a function, you can use it as many times as you want.<br/><br/>\n",
    "when you invoke/call a function, you just type out its name, followed by the brackets. If there are parameters, the parameters will be passed into the brackets."
   ]
  },
  {
   "cell_type": "code",
   "execution_count": 2,
   "metadata": {
    "ExecuteTime": {
     "end_time": "2023-05-21T13:05:00.456231Z",
     "start_time": "2023-05-21T13:05:00.428828Z"
    }
   },
   "outputs": [
    {
     "data": {
      "text/plain": [
       "3"
      ]
     },
     "execution_count": 2,
     "metadata": {},
     "output_type": "execute_result"
    }
   ],
   "source": [
    "add(1, 2)"
   ]
  },
  {
   "cell_type": "code",
   "execution_count": 3,
   "metadata": {
    "ExecuteTime": {
     "end_time": "2023-05-21T13:05:00.472106Z",
     "start_time": "2023-05-21T13:05:00.459083Z"
    }
   },
   "outputs": [
    {
     "data": {
      "text/plain": [
       "7"
      ]
     },
     "execution_count": 3,
     "metadata": {},
     "output_type": "execute_result"
    }
   ],
   "source": [
    "add(3,4)"
   ]
  },
  {
   "cell_type": "markdown",
   "metadata": {},
   "source": [
    "> once your function returns, the code following the return statement will not run anymore.<br/>\n",
    "You can see that the statement \"Finished adding...\" never ran."
   ]
  },
  {
   "cell_type": "code",
   "execution_count": 4,
   "metadata": {
    "ExecuteTime": {
     "end_time": "2023-05-21T13:05:00.487351Z",
     "start_time": "2023-05-21T13:05:00.476103Z"
    }
   },
   "outputs": [],
   "source": [
    "def add_withprint(a, b):\n",
    "    print(\"Starting to add ...\")\n",
    "    c = a + b\n",
    "    return c\n",
    "    print(\"Finished adding...\")"
   ]
  },
  {
   "cell_type": "code",
   "execution_count": 5,
   "metadata": {
    "ExecuteTime": {
     "end_time": "2023-05-21T13:05:00.502861Z",
     "start_time": "2023-05-21T13:05:00.493343Z"
    }
   },
   "outputs": [
    {
     "name": "stdout",
     "output_type": "stream",
     "text": [
      "Starting to add ...\n"
     ]
    },
    {
     "data": {
      "text/plain": [
       "3"
      ]
     },
     "execution_count": 5,
     "metadata": {},
     "output_type": "execute_result"
    }
   ],
   "source": [
    "add_withprint(1, 2)"
   ]
  },
  {
   "cell_type": "markdown",
   "metadata": {},
   "source": [
    "> A common newbie mistake is to define a function with the actual values you want to use. Like the following mistake:"
   ]
  },
  {
   "cell_type": "code",
   "execution_count": 6,
   "metadata": {
    "ExecuteTime": {
     "end_time": "2023-05-21T13:05:00.518452Z",
     "start_time": "2023-05-21T13:05:00.505854Z"
    }
   },
   "outputs": [],
   "source": [
    "#def add_mistake(1,2):\n",
    "#    return 3"
   ]
  },
  {
   "cell_type": "markdown",
   "metadata": {},
   "source": [
    "> There is no limit to the number of parameters you can take in. You can also write a function without any parameters. But there must only be at most <b>one</b> return statement. You can write a function without any return statements too."
   ]
  },
  {
   "cell_type": "code",
   "execution_count": 7,
   "metadata": {
    "ExecuteTime": {
     "end_time": "2023-05-21T13:05:00.534104Z",
     "start_time": "2023-05-21T13:05:00.522460Z"
    }
   },
   "outputs": [],
   "source": [
    "def basic_function():\n",
    "    print(\"this function does nothing.\")"
   ]
  },
  {
   "cell_type": "code",
   "execution_count": 8,
   "metadata": {
    "ExecuteTime": {
     "end_time": "2023-05-21T13:05:00.549019Z",
     "start_time": "2023-05-21T13:05:00.538006Z"
    }
   },
   "outputs": [
    {
     "name": "stdout",
     "output_type": "stream",
     "text": [
      "this function does nothing.\n"
     ]
    }
   ],
   "source": [
    "basic_function()"
   ]
  },
  {
   "cell_type": "code",
   "execution_count": 9,
   "metadata": {
    "ExecuteTime": {
     "end_time": "2023-05-21T13:05:00.565080Z",
     "start_time": "2023-05-21T13:05:00.554015Z"
    }
   },
   "outputs": [],
   "source": [
    "def super_add(a,b,c,d,e):\n",
    "    z = a + b + c + d + e\n",
    "    return z"
   ]
  },
  {
   "cell_type": "code",
   "execution_count": 10,
   "metadata": {
    "ExecuteTime": {
     "end_time": "2023-05-21T13:05:00.580894Z",
     "start_time": "2023-05-21T13:05:00.571103Z"
    }
   },
   "outputs": [
    {
     "data": {
      "text/plain": [
       "15"
      ]
     },
     "execution_count": 10,
     "metadata": {},
     "output_type": "execute_result"
    }
   ],
   "source": [
    "super_add(1,2,3,4,5)"
   ]
  },
  {
   "cell_type": "markdown",
   "metadata": {},
   "source": [
    "> Another common newbie mistake, which is harder to detect, is to use a print instead of a return. Like the following mistake:"
   ]
  },
  {
   "cell_type": "code",
   "execution_count": 11,
   "metadata": {
    "ExecuteTime": {
     "end_time": "2023-05-21T13:05:00.596519Z",
     "start_time": "2023-05-21T13:05:00.585339Z"
    }
   },
   "outputs": [],
   "source": [
    "def add_wrong(a,b):\n",
    "    c = a + b\n",
    "    print(c)"
   ]
  },
  {
   "cell_type": "code",
   "execution_count": 12,
   "metadata": {
    "ExecuteTime": {
     "end_time": "2023-05-21T13:05:00.612035Z",
     "start_time": "2023-05-21T13:05:00.600040Z"
    }
   },
   "outputs": [
    {
     "name": "stdout",
     "output_type": "stream",
     "text": [
      "3\n"
     ]
    }
   ],
   "source": [
    "add_wrong(1,2)"
   ]
  },
  {
   "cell_type": "markdown",
   "metadata": {},
   "source": [
    "> Now, it looks like the result is the same, but notice that there is no \"Out\" in this one. But the earlier one using return has an \"Out\".\n",
    "> You will see what's the significance of this when you use functions like the below:"
   ]
  },
  {
   "cell_type": "code",
   "execution_count": 13,
   "metadata": {
    "ExecuteTime": {
     "end_time": "2023-05-21T13:05:00.627745Z",
     "start_time": "2023-05-21T13:05:00.616548Z"
    }
   },
   "outputs": [
    {
     "name": "stdout",
     "output_type": "stream",
     "text": [
      "3\n",
      "None\n"
     ]
    }
   ],
   "source": [
    "final_answer = add_wrong(1,2)\n",
    "print(final_answer)"
   ]
  },
  {
   "cell_type": "markdown",
   "metadata": {},
   "source": [
    "> Notice that a 3 is printed out, then followed by a None. The 3 is printed out when the function add_wrong is being evaluated. Then when you print the variable <b>final_answer</b>, because there is nothing being returned, it contains <b>None</b> ... which means nothing.<br/><br/>\n",
    "This is the proper way that you should have defined and used the function."
   ]
  },
  {
   "cell_type": "code",
   "execution_count": 14,
   "metadata": {
    "ExecuteTime": {
     "end_time": "2023-05-21T13:05:00.643217Z",
     "start_time": "2023-05-21T13:05:00.631738Z"
    }
   },
   "outputs": [
    {
     "name": "stdout",
     "output_type": "stream",
     "text": [
      "3\n"
     ]
    }
   ],
   "source": [
    "final_answer = add(1,2)\n",
    "print(final_answer)"
   ]
  },
  {
   "cell_type": "markdown",
   "metadata": {},
   "source": [
    "> try ... except ... else ... finally clauses are usually to help you catch errors in your code, so your program doesn't crash. Run the following code and you realise that it causes some runtime error."
   ]
  },
  {
   "cell_type": "code",
   "execution_count": 15,
   "metadata": {
    "ExecuteTime": {
     "end_time": "2023-05-21T13:05:00.658821Z",
     "start_time": "2023-05-21T13:05:00.648234Z"
    }
   },
   "outputs": [
    {
     "data": {
      "text/plain": [
       "'\\ndoing some risky code...\\n---------------------------------------------------------------------------\\nTypeError                                 Traceback (most recent call last)\\nCell In[16], line 4\\n      1 print(\"doing some risky code...\")\\n      3 data = [1,2,3]\\n----> 4 print(data - 2)\\n      6 print(\"done!\")\\n\\nTypeError: unsupported operand type(s) for -: \\'list\\' and \\'int\\'\\n'"
      ]
     },
     "execution_count": 15,
     "metadata": {},
     "output_type": "execute_result"
    }
   ],
   "source": [
    "#print(\"doing some risky code...\")\n",
    "\n",
    "#data = [1,2,3]\n",
    "#print(data - 2)\n",
    "\n",
    "#print(\"done!\")\n",
    "\n",
    "\"\"\"\n",
    "doing some risky code...\n",
    "---------------------------------------------------------------------------\n",
    "TypeError                                 Traceback (most recent call last)\n",
    "Cell In[16], line 4\n",
    "      1 print(\"doing some risky code...\")\n",
    "      3 data = [1,2,3]\n",
    "----> 4 print(data - 2)\n",
    "      6 print(\"done!\")\n",
    "\n",
    "TypeError: unsupported operand type(s) for -: 'list' and 'int'\n",
    "\"\"\""
   ]
  },
  {
   "cell_type": "markdown",
   "metadata": {},
   "source": [
    "> the statement \"done!\" was never printed out because your code crashed.<br/><br/>\n",
    "> if you enclose this within a try ... except ... else ... finally clause, your code will continue to run."
   ]
  },
  {
   "cell_type": "code",
   "execution_count": 16,
   "metadata": {
    "ExecuteTime": {
     "end_time": "2023-05-21T13:05:00.674816Z",
     "start_time": "2023-05-21T13:05:00.662810Z"
    }
   },
   "outputs": [
    {
     "name": "stdout",
     "output_type": "stream",
     "text": [
      "doing some risky code...\n",
      "An error is caught\n",
      "done!\n"
     ]
    }
   ],
   "source": [
    "print(\"doing some risky code...\")\n",
    "\n",
    "try:\n",
    "    data = [1,2,3]\n",
    "    print(data - 2)\n",
    "except:\n",
    "    print(\"An error is caught\")\n",
    "else:\n",
    "    print(\"No error!\")\n",
    "finally:\n",
    "    print(\"done!\")"
   ]
  },
  {
   "cell_type": "code",
   "execution_count": 17,
   "metadata": {
    "ExecuteTime": {
     "end_time": "2023-05-21T13:05:00.690440Z",
     "start_time": "2023-05-21T13:05:00.679326Z"
    }
   },
   "outputs": [
    {
     "name": "stdout",
     "output_type": "stream",
     "text": [
      "doing some risky code...\n",
      "[1, 2, 3, 1, 2, 3]\n",
      "No error!\n",
      "done!\n"
     ]
    }
   ],
   "source": [
    "print(\"doing some risky code...\")\n",
    "\n",
    "try:\n",
    "    data = [1,2,3]\n",
    "    print(data * 2)\n",
    "except:\n",
    "    print(\"An error is caught\")\n",
    "else:\n",
    "    print(\"No error!\")\n",
    "finally:\n",
    "    print(\"done!\")"
   ]
  },
  {
   "cell_type": "markdown",
   "metadata": {},
   "source": [
    "> The simplest form is to just use try ... except"
   ]
  },
  {
   "cell_type": "code",
   "execution_count": 18,
   "metadata": {
    "ExecuteTime": {
     "end_time": "2023-05-21T13:05:00.705451Z",
     "start_time": "2023-05-21T13:05:00.693448Z"
    }
   },
   "outputs": [
    {
     "name": "stdout",
     "output_type": "stream",
     "text": [
      "doing some risky code...\n",
      "An error is caught\n"
     ]
    }
   ],
   "source": [
    "print(\"doing some risky code...\")\n",
    "\n",
    "try:\n",
    "    data = [1,2,3]\n",
    "    print(data - 2)\n",
    "except:\n",
    "    print(\"An error is caught\")"
   ]
  },
  {
   "cell_type": "markdown",
   "metadata": {},
   "source": [
    "# !! Your Turn !!"
   ]
  },
  {
   "cell_type": "markdown",
   "metadata": {},
   "source": [
    "## Replace the code marked as <..> COMPLETELY with your own.\n",
    "For example:\n",
    "length = <..> will be replaced by length = 10"
   ]
  },
  {
   "cell_type": "code",
   "execution_count": 19,
   "metadata": {
    "ExecuteTime": {
     "end_time": "2023-05-21T13:05:06.314014Z",
     "start_time": "2023-05-21T13:05:00.709093Z"
    }
   },
   "outputs": [
    {
     "name": "stdout",
     "output_type": "stream",
     "text": [
      "type in your full nameElias RY Chang\n",
      "Elias RY Chang\n"
     ]
    }
   ],
   "source": [
    "name = input(\"type in your full name\")\n",
    "print(name)"
   ]
  },
  {
   "cell_type": "markdown",
   "metadata": {},
   "source": [
    "# Question 1\n",
    "1) Define a simple function, <b>sayhi</b>, that prints out hello.<br/>\n",
    "2) Call the function."
   ]
  },
  {
   "cell_type": "code",
   "execution_count": 20,
   "metadata": {
    "ExecuteTime": {
     "end_time": "2023-05-21T13:05:06.329725Z",
     "start_time": "2023-05-21T13:05:06.317649Z"
    }
   },
   "outputs": [
    {
     "name": "stdout",
     "output_type": "stream",
     "text": [
      "Hhello\n"
     ]
    }
   ],
   "source": [
    "def sayhi():\n",
    "    print('Hhello')\n",
    "    \n",
    "sayhi()"
   ]
  },
  {
   "cell_type": "markdown",
   "metadata": {},
   "source": [
    "# Question 2\n",
    "1) Modify the <b>sayhi</b> function to take in an argument, <b>name</b>.<br/>\n",
    "2) Modify the <b>sayhi</b> function such that when you call the function, it prints out Hello, followed by the name you passed in. <br/>\n",
    "3) For example, sayhi(\"John\") will produce<br/>\n",
    "Hello John"
   ]
  },
  {
   "cell_type": "code",
   "execution_count": 21,
   "metadata": {
    "ExecuteTime": {
     "end_time": "2023-05-21T13:05:06.377275Z",
     "start_time": "2023-05-21T13:05:06.333223Z"
    }
   },
   "outputs": [
    {
     "name": "stdout",
     "output_type": "stream",
     "text": [
      "Hello John\n"
     ]
    }
   ],
   "source": [
    "def sayhi(name):\n",
    "    print(f'Hello {name}')\n",
    "    \n",
    "sayhi(\"John\")"
   ]
  },
  {
   "cell_type": "markdown",
   "metadata": {},
   "source": [
    "# Question 3\n",
    "1) Modify the <b>sayhi</b> function such that even when you do not pass in any argument into the parameter, it will say \"Hello sweetie\".<br/>\n",
    "2) For example:<br/>\n",
    "sayhi() will produce<br/>\n",
    "    Hello sweetie<br/><br/>\n",
    "sayhi(\"John\") will produce<br/>\n",
    "    Hello John"
   ]
  },
  {
   "cell_type": "code",
   "execution_count": 22,
   "metadata": {
    "ExecuteTime": {
     "end_time": "2023-05-21T13:05:06.393046Z",
     "start_time": "2023-05-21T13:05:06.379976Z"
    }
   },
   "outputs": [
    {
     "name": "stdout",
     "output_type": "stream",
     "text": [
      "Hello sweetie\n",
      "Hello John\n"
     ]
    }
   ],
   "source": [
    "def sayhi(name='sweetie'):\n",
    "    print(f'Hello {name}')\n",
    "    \n",
    "sayhi()\n",
    "sayhi(\"John\")"
   ]
  },
  {
   "cell_type": "markdown",
   "metadata": {},
   "source": [
    "# Question 4\n",
    "1) 2 to the power of 3 is written as 2**3 in Python code.<br/>\n",
    "2) 2 is called the base.<br/>\n",
    "3) 3 is called the exponent.<br/>\n",
    "4) Write a function, <b>powerof</b>, that takes in two numbers (base and exponent), and output base to the power of exponent.<br/>\n",
    "5) Call the function with base = 3, exponent = 5<br/>"
   ]
  },
  {
   "cell_type": "code",
   "execution_count": 23,
   "metadata": {
    "ExecuteTime": {
     "end_time": "2023-05-21T13:05:06.408982Z",
     "start_time": "2023-05-21T13:05:06.396494Z"
    }
   },
   "outputs": [],
   "source": [
    "def powerof(base, exponent):\n",
    "    return base ** exponent"
   ]
  },
  {
   "cell_type": "code",
   "execution_count": 24,
   "metadata": {
    "ExecuteTime": {
     "end_time": "2023-05-21T13:05:06.425007Z",
     "start_time": "2023-05-21T13:05:06.413924Z"
    }
   },
   "outputs": [
    {
     "data": {
      "text/plain": [
       "243"
      ]
     },
     "execution_count": 24,
     "metadata": {},
     "output_type": "execute_result"
    }
   ],
   "source": [
    "#test it out with this:\n",
    "powerof(3,5)\n",
    "\n",
    "#you should see an output of 243"
   ]
  },
  {
   "cell_type": "markdown",
   "metadata": {},
   "source": [
    "# Question 5\n",
    "1) Write a function, <b>magic</b>, that takes in two parameters:<br/>\n",
    "<b>numbers</b> (a list of numbers), and<br/>\n",
    "<b>factor</b> (an integer)<br/>\n",
    "2) First, write the function such that it simply returns (not print) out the list as it is."
   ]
  },
  {
   "cell_type": "code",
   "execution_count": 25,
   "metadata": {
    "ExecuteTime": {
     "end_time": "2023-05-21T13:05:06.439975Z",
     "start_time": "2023-05-21T13:05:06.428801Z"
    }
   },
   "outputs": [],
   "source": [
    "def magic(numbers, factor):\n",
    "    return numbers"
   ]
  },
  {
   "cell_type": "code",
   "execution_count": 26,
   "metadata": {
    "ExecuteTime": {
     "end_time": "2023-05-21T13:05:06.455224Z",
     "start_time": "2023-05-21T13:05:06.443814Z"
    }
   },
   "outputs": [
    {
     "data": {
      "text/plain": [
       "[1, 2, 3, 4, 5]"
      ]
     },
     "execution_count": 26,
     "metadata": {},
     "output_type": "execute_result"
    }
   ],
   "source": [
    "#test it out with this:\n",
    "magic([1,2,3,4,5],5)\n",
    "\n",
    "#you should see an output of [1,2,3,4,5]"
   ]
  },
  {
   "cell_type": "markdown",
   "metadata": {},
   "source": [
    "3) Modify the function <b>magic</b> such that it multiplies the list with the factor, and returns the output."
   ]
  },
  {
   "cell_type": "code",
   "execution_count": 27,
   "metadata": {
    "ExecuteTime": {
     "end_time": "2023-05-21T13:05:06.471135Z",
     "start_time": "2023-05-21T13:05:06.457608Z"
    },
    "scrolled": true
   },
   "outputs": [],
   "source": [
    "def magic(numbers, factor):\n",
    "    for i in range(len(numbers)):\n",
    "        numbers[i] = numbers[i] * factor\n",
    "    return numbers"
   ]
  },
  {
   "cell_type": "code",
   "execution_count": 28,
   "metadata": {
    "ExecuteTime": {
     "end_time": "2023-05-21T13:05:06.502157Z",
     "start_time": "2023-05-21T13:05:06.480020Z"
    }
   },
   "outputs": [
    {
     "data": {
      "text/plain": [
       "[5, 10, 15, 20, 25]"
      ]
     },
     "execution_count": 28,
     "metadata": {},
     "output_type": "execute_result"
    }
   ],
   "source": [
    "#test it out with this:\n",
    "magic([1,2,3,4,5],5)\n",
    "\n",
    "#you should see an output of [5, 10, 15, 20, 25]"
   ]
  },
  {
   "cell_type": "markdown",
   "metadata": {},
   "source": [
    "4) call your magic function using magic(factor = 5, numbers = [1,2,3,4,5]) instead.<br/>\n",
    "Does it still work even though your paramters are in the wrong place?"
   ]
  },
  {
   "cell_type": "code",
   "execution_count": 29,
   "metadata": {
    "ExecuteTime": {
     "end_time": "2023-05-21T13:05:06.517476Z",
     "start_time": "2023-05-21T13:05:06.506158Z"
    }
   },
   "outputs": [
    {
     "data": {
      "text/plain": [
       "[5, 10, 15, 20, 25]"
      ]
     },
     "execution_count": 29,
     "metadata": {},
     "output_type": "execute_result"
    }
   ],
   "source": [
    "magic(factor = 5, numbers = [1,2,3,4,5]) #yes it does"
   ]
  },
  {
   "cell_type": "markdown",
   "metadata": {},
   "source": [
    "# Question 6\n",
    "1) You can't write all functions you need by yourself. import helps you bring in libraries of functions written by others.<br/>\n",
    "2) Do an import for the random library and call it ran."
   ]
  },
  {
   "cell_type": "code",
   "execution_count": 30,
   "metadata": {
    "ExecuteTime": {
     "end_time": "2023-05-21T13:05:06.532813Z",
     "start_time": "2023-05-21T13:05:06.521471Z"
    }
   },
   "outputs": [],
   "source": [
    "import random as ran"
   ]
  },
  {
   "cell_type": "markdown",
   "metadata": {},
   "source": [
    "3) Create a random integer from 1 to 100 and store it in a variable <b>lucky_num</b>. Run it a few times to make sure that it's \"truly\" random."
   ]
  },
  {
   "cell_type": "code",
   "execution_count": 39,
   "metadata": {
    "ExecuteTime": {
     "end_time": "2023-05-21T13:14:08.813908Z",
     "start_time": "2023-05-21T13:14:08.804495Z"
    }
   },
   "outputs": [
    {
     "name": "stdout",
     "output_type": "stream",
     "text": [
      "34\n"
     ]
    }
   ],
   "source": [
    "lucky_num = ran.randint(1,100)\n",
    "print(lucky_num)\n",
    "# Random number from random geneator can never be truly random\n",
    "# since they always start with a seed to and put it into an algorithm "
   ]
  },
  {
   "cell_type": "markdown",
   "metadata": {},
   "source": [
    "4) Create a variable <b>guess</b> that stores an empty string at the onstart.<br/>\n",
    "5) Do a while loop that loops while guess is not equal to \"exit\".<br/>\n",
    "6) When the while loop runs, it asks for an input with the following prompt: \"Make a guess from 1 to 100. Type exit to stop. \"<br/>\n",
    "7) Then print out what the person's guess is. For example, if the person guessed 50, then print out<br/>\n",
    "You made a guess of 50"
   ]
  },
  {
   "cell_type": "code",
   "execution_count": 40,
   "metadata": {
    "ExecuteTime": {
     "end_time": "2023-05-21T13:14:33.036895Z",
     "start_time": "2023-05-21T13:14:17.968634Z"
    }
   },
   "outputs": [
    {
     "name": "stdout",
     "output_type": "stream",
     "text": [
      "Make a guess from 1 to 100. Type exit to stop.23\n",
      "You made a guess of 23\n",
      "Make a guess from 1 to 100. Type exit to stop.fgfg\n",
      "You made a guess of fgfg\n",
      "Make a guess from 1 to 100. Type exit to stop.456\n",
      "You made a guess of 456\n",
      "Make a guess from 1 to 100. Type exit to stop.11\n",
      "You made a guess of 11\n",
      "Make a guess from 1 to 100. Type exit to stop.exit\n",
      "You made a guess of exit\n"
     ]
    }
   ],
   "source": [
    "guess = ''\n",
    "while guess != 'exit':\n",
    "    guess = input('Make a guess from 1 to 100. Type exit to stop.')\n",
    "    print(f'You made a guess of {guess}')\n",
    "# Possible to restrict input to only 1 to 100 & exit, if not user can put in anything"
   ]
  },
  {
   "cell_type": "markdown",
   "metadata": {},
   "source": [
    "8) if the guess is the same as the lucky number, print out \"Congrats\" and break out of the while loop.<br/>\n",
    "Note: input takes in a string. Your earlier lucky number is an int. You need to cast them into the same data type before comparing."
   ]
  },
  {
   "cell_type": "code",
   "execution_count": 61,
   "metadata": {
    "ExecuteTime": {
     "end_time": "2023-05-21T13:57:09.240735Z",
     "start_time": "2023-05-21T13:56:56.481113Z"
    }
   },
   "outputs": [
    {
     "name": "stdout",
     "output_type": "stream",
     "text": [
      "Make a guess from 1 to 100. Type exit to stop. 22\n",
      "You made a guess of 22\n",
      "Make a guess from 1 to 100. Type exit to stop. 33\n",
      "You made a guess of 33\n",
      "Make a guess from 1 to 100. Type exit to stop. dfdf\n",
      "You made a guess of dfdf\n",
      "Your Guess must be an integer!\n",
      "Make a guess from 1 to 100. Type exit to stop. 11\n",
      "You made a guess of 11\n",
      "Make a guess from 1 to 100. Type exit to stop. exit\n",
      "You made a guess of exit\n",
      "Your Guess must be an integer!\n"
     ]
    }
   ],
   "source": [
    "guess = ''\n",
    "while guess != 'exit':\n",
    "    guess = input('Make a guess from 1 to 100. Type exit to stop. ')\n",
    "    print(f'You made a guess of {guess}')\n",
    "    try:\n",
    "        if int(guess) == ran.randint(1,100):\n",
    "            # Lucky number always reset, making it for user to guess. could change to use the lucky_num created earlier\n",
    "            print(\"Congrats\")\n",
    "            break\n",
    "        elif guess == 'exit': # Check for exit\n",
    "            pass\n",
    "    except ValueError: # Check if user input isn't a string, 'exit' will be ignore since its part of if else check\n",
    "        print('Your Guess must be an integer!')"
   ]
  },
  {
   "cell_type": "markdown",
   "metadata": {},
   "source": [
    "# Question 7 *\n",
    "1) Write a function, <b>splitter</b> that takes in an IC string, and outputs a tuple of the digits only.<br/>\n",
    "For example, if we do:<br/>\n",
    "a,b,c,d,e,f,g = splitter('S1234567D') <br/>\n",
    "a will store 1.<br/>\n",
    "b will store 2.<br/>\n",
    "...<br/>\n",
    "g will store 7.<br/>"
   ]
  },
  {
   "cell_type": "code",
   "execution_count": 50,
   "metadata": {
    "ExecuteTime": {
     "end_time": "2023-05-21T13:37:53.776770Z",
     "start_time": "2023-05-21T13:37:53.768872Z"
    }
   },
   "outputs": [],
   "source": [
    "def splitter(ic):\n",
    "    a,b,c,d,e,f,g  = [char for char in ic if char.isdigit()]\n",
    "    return a,b,c,d,e,f,g"
   ]
  },
  {
   "cell_type": "code",
   "execution_count": 51,
   "metadata": {
    "ExecuteTime": {
     "end_time": "2023-05-21T13:38:13.284253Z",
     "start_time": "2023-05-21T13:38:13.268970Z"
    }
   },
   "outputs": [
    {
     "name": "stdout",
     "output_type": "stream",
     "text": [
      "1 2 3 4 5 6 7\n"
     ]
    }
   ],
   "source": [
    "#test your function here\n",
    "a,b,c,d,e,f,g = splitter('S1234567D')\n",
    "print(a,b,c,d,e,f,g)"
   ]
  },
  {
   "cell_type": "markdown",
   "metadata": {},
   "source": [
    "# Question 8 *"
   ]
  },
  {
   "cell_type": "markdown",
   "metadata": {},
   "source": [
    "Modify the code in Question 6 such that you check if the user keys in an alphabet instead of a number, and alerts the user.<br/><br/>\n",
    "Sample Output:<br/>\n",
    "For testing purposes: 67<br/>\n",
    "Make a guess from 1 to 100. Type exit to stop. 10<br/>\n",
    "You made a guess of 10<br/>\n",
    "Make a guess from 1 to 100. Type exit to stop. abc<br/>\n",
    "Please only key in a number.<br/>\n",
    "Make a guess from 1 to 100. Type exit to stop. 67<br/>\n",
    "You made a guess of 67<br/>\n",
    "Congrats<br/>"
   ]
  },
  {
   "cell_type": "code",
   "execution_count": 63,
   "metadata": {
    "ExecuteTime": {
     "end_time": "2023-05-21T13:58:17.320182Z",
     "start_time": "2023-05-21T13:58:07.046567Z"
    }
   },
   "outputs": [
    {
     "name": "stdout",
     "output_type": "stream",
     "text": [
      "For testing purposes: 100\n",
      "Make a guess from 1 to 100. Type exit to stop. gg\n",
      "You made a guess of gg\n",
      "Please only key in a number.\n",
      "Make a guess from 1 to 100. Type exit to stop. 11\n",
      "You made a guess of 11\n",
      "Make a guess from 1 to 100. Type exit to stop. 100\n",
      "You made a guess of 100\n",
      "Congrats\n"
     ]
    }
   ],
   "source": [
    "import random as ran\n",
    "lucky_num = ran.randint(1,100)\n",
    "print(\"For testing purposes:\",lucky_num)\n",
    "\n",
    "guess = ''\n",
    "while guess != 'exit':\n",
    "    guess = input('Make a guess from 1 to 100. Type exit to stop. ')\n",
    "    print(f'You made a guess of {guess}')\n",
    "    try:\n",
    "        if int(guess) == lucky_num:\n",
    "            # Lucky number always reset, making it for user to guess. could change to use the lucky_num created earlier\n",
    "            print(\"Congrats\")\n",
    "            break\n",
    "        elif guess == 'exit': # Check for exit\n",
    "            pass\n",
    "    except ValueError: # Check if user input isn't a string, 'exit' will be ignore since its part of if else check\n",
    "        print('Please only key in a number.') # Already implement this in qns, changing the output"
   ]
  },
  {
   "cell_type": "markdown",
   "metadata": {},
   "source": [
    "# Question 9 *"
   ]
  },
  {
   "cell_type": "markdown",
   "metadata": {},
   "source": [
    "Modify the code in Question 9 such that after the user makes a guess, you will prompt him whether his guess is too high or too low.<br/><br/>\n",
    "Sample Output<br/>\n",
    "For testing purposes: 68<br/>\n",
    "Make a guess from 1 to 100. Type exit to stop. 4<br/>\n",
    "You made a guess of 4<br/>\n",
    "Your guess is too low.<br/>\n",
    "Make a guess from 1 to 100. Type exit to stop. 99<br/>\n",
    "You made a guess of 99<br/>\n",
    "Your guess is too high.<br/>\n",
    "Make a guess from 1 to 100. Type exit to stop. 68<br/>\n",
    "You made a guess of 68<br/>\n",
    "Congrats<br/>"
   ]
  },
  {
   "cell_type": "code",
   "execution_count": 66,
   "metadata": {
    "ExecuteTime": {
     "end_time": "2023-05-21T14:02:26.512635Z",
     "start_time": "2023-05-21T14:02:16.745109Z"
    }
   },
   "outputs": [
    {
     "name": "stdout",
     "output_type": "stream",
     "text": [
      "For testing purposes: 51\n",
      "Make a guess from 1 to 100. Type exit to stop. 0\n",
      "You made a guess of 0\n",
      "Your guess is too low.\n",
      "Make a guess from 1 to 100. Type exit to stop. 101\n",
      "You made a guess of 101\n",
      "Your guess is too high.\n",
      "Make a guess from 1 to 100. Type exit to stop. 51\n",
      "You made a guess of 51\n",
      "Congrats\n"
     ]
    }
   ],
   "source": [
    "myname = 'Elias RY Chang' # Why? it is not used anywhere in the script.\n",
    "\n",
    "import random as ran\n",
    "lucky_num = ran.randint(1,100)\n",
    "print(\"For testing purposes:\",lucky_num)\n",
    "\n",
    "guess = ''\n",
    "while guess != 'exit':\n",
    "    guess = input('Make a guess from 1 to 100. Type exit to stop. ')\n",
    "    print(f'You made a guess of {guess}')\n",
    "    try:\n",
    "        if int(guess) == lucky_num:\n",
    "            # Lucky number always reset, making it for user to guess. could change to use the lucky_num created earlier\n",
    "            print(\"Congrats\")\n",
    "            break\n",
    "        elif int(guess) < 1:\n",
    "            print('Your guess is too low.')\n",
    "        elif int(guess) > 100:\n",
    "            print('Your guess is too high.')\n",
    "        elif guess == 'exit': # Check for exit\n",
    "            pass\n",
    "    except ValueError: # Check if user input isn't a string, 'exit' will be ignore since its part of if else check\n",
    "        print('Please only key in a number.') # Already implement this in qns, changing the output"
   ]
  }
 ],
 "metadata": {
  "kernelspec": {
   "display_name": "DC_Bootcamp",
   "language": "python",
   "name": "dc_bootcamp"
  },
  "language_info": {
   "codemirror_mode": {
    "name": "ipython",
    "version": 3
   },
   "file_extension": ".py",
   "mimetype": "text/x-python",
   "name": "python",
   "nbconvert_exporter": "python",
   "pygments_lexer": "ipython3",
   "version": "3.10.11"
  }
 },
 "nbformat": 4,
 "nbformat_minor": 4
}
