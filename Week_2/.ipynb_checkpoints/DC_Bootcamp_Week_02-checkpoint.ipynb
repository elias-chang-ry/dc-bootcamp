{
 "cells": [
  {
   "cell_type": "markdown",
   "metadata": {},
   "source": [
    "# if-else, for, while"
   ]
  },
  {
   "cell_type": "markdown",
   "metadata": {},
   "source": [
    "## Run The Following Code\n",
    "Hit SHIFT + ENTER when your cusor is inside the cell of code.<br/>"
   ]
  },
  {
   "cell_type": "markdown",
   "metadata": {},
   "source": [
    "> The if else construct enables you to selectively run parts of your code. Which part of the code runs depends on whether the code segment after if equates to True, or False."
   ]
  },
  {
   "cell_type": "code",
   "execution_count": 1,
   "metadata": {
    "ExecuteTime": {
     "end_time": "2023-05-10T15:09:09.422096Z",
     "start_time": "2023-05-10T15:09:09.413096Z"
    }
   },
   "outputs": [
    {
     "name": "stdout",
     "output_type": "stream",
     "text": [
      "This is the code segment for True\n",
      "True! Hooray!\n"
     ]
    }
   ],
   "source": [
    "if True:\n",
    "    print(\"This is the code segment for True\")\n",
    "    print(\"True! Hooray!\")\n",
    "else:\n",
    "    print(\"This is the code segment for False\")\n",
    "    print(\"False! Boo!\")"
   ]
  },
  {
   "cell_type": "code",
   "execution_count": 2,
   "metadata": {
    "ExecuteTime": {
     "end_time": "2023-05-10T15:09:10.581684Z",
     "start_time": "2023-05-10T15:09:10.572337Z"
    }
   },
   "outputs": [
    {
     "name": "stdout",
     "output_type": "stream",
     "text": [
      "This is the code segment for False\n",
      "False! Boo!\n"
     ]
    }
   ],
   "source": [
    "if False:\n",
    "    print(\"This is the code segment for True\")\n",
    "    print(\"True! Hooray!\")\n",
    "else:\n",
    "    print(\"This is the code segment for False\")\n",
    "    print(\"False! Boo!\")"
   ]
  },
  {
   "cell_type": "markdown",
   "metadata": {},
   "source": [
    "> You can use a variable to enable which parts of the code runs."
   ]
  },
  {
   "cell_type": "code",
   "execution_count": 3,
   "metadata": {
    "ExecuteTime": {
     "end_time": "2023-05-10T15:10:29.592991Z",
     "start_time": "2023-05-10T15:10:29.572834Z"
    }
   },
   "outputs": [
    {
     "name": "stdout",
     "output_type": "stream",
     "text": [
      "This is the code segment for True\n",
      "True! Hooray!\n"
     ]
    }
   ],
   "source": [
    "true_or_false = True\n",
    "\n",
    "if true_or_false:\n",
    "    print(\"This is the code segment for True\")\n",
    "    print(\"True! Hooray!\")\n",
    "else:\n",
    "    print(\"This is the code segment for False\")\n",
    "    print(\"False! Boo!\")"
   ]
  },
  {
   "cell_type": "code",
   "execution_count": 4,
   "metadata": {
    "ExecuteTime": {
     "end_time": "2023-05-10T15:10:30.419185Z",
     "start_time": "2023-05-10T15:10:30.408654Z"
    }
   },
   "outputs": [
    {
     "name": "stdout",
     "output_type": "stream",
     "text": [
      "This is the code segment for False\n",
      "False! Boo!\n"
     ]
    }
   ],
   "source": [
    "true_or_false = False\n",
    "\n",
    "if true_or_false:\n",
    "    print(\"This is the code segment for True\")\n",
    "    print(\"True! Hooray!\")\n",
    "else:\n",
    "    print(\"This is the code segment for False\")\n",
    "    print(\"False! Boo!\")"
   ]
  },
  {
   "cell_type": "markdown",
   "metadata": {},
   "source": [
    "> You can use conditionals together with the variable to make it more interesting and useful."
   ]
  },
  {
   "cell_type": "code",
   "execution_count": 5,
   "metadata": {
    "ExecuteTime": {
     "end_time": "2023-05-10T15:10:36.430834Z",
     "start_time": "2023-05-10T15:10:36.422575Z"
    }
   },
   "outputs": [
    {
     "name": "stdout",
     "output_type": "stream",
     "text": [
      "The secret number is greater than 5!\n"
     ]
    }
   ],
   "source": [
    "secret_number = 10\n",
    "\n",
    "if secret_number > 5:\n",
    "    print(\"The secret number is greater than 5!\")\n",
    "else:\n",
    "    print(\"The secret number is not greater than 5.\")"
   ]
  },
  {
   "cell_type": "code",
   "execution_count": 6,
   "metadata": {
    "ExecuteTime": {
     "end_time": "2023-05-10T15:10:36.726770Z",
     "start_time": "2023-05-10T15:10:36.711977Z"
    }
   },
   "outputs": [
    {
     "name": "stdout",
     "output_type": "stream",
     "text": [
      "The secret number is not greater than 5.\n"
     ]
    }
   ],
   "source": [
    "secret_number = 3\n",
    "\n",
    "if secret_number > 5:\n",
    "    print(\"The secret number is greater than 5!\")\n",
    "else:\n",
    "    print(\"The secret number is not greater than 5.\")"
   ]
  },
  {
   "cell_type": "code",
   "execution_count": 7,
   "metadata": {
    "ExecuteTime": {
     "end_time": "2023-05-10T15:10:37.207139Z",
     "start_time": "2023-05-10T15:10:37.186868Z"
    }
   },
   "outputs": [
    {
     "name": "stdout",
     "output_type": "stream",
     "text": [
      "The secret number is between 5 and 10!\n"
     ]
    }
   ],
   "source": [
    "secret_number = 8\n",
    "\n",
    "if secret_number > 5 and secret_number < 10:\n",
    "    print(\"The secret number is between 5 and 10!\")\n",
    "else:\n",
    "    print(\"The secret number is not between 5 and 10\")"
   ]
  },
  {
   "cell_type": "markdown",
   "metadata": {},
   "source": [
    "> Truth Table"
   ]
  },
  {
   "cell_type": "code",
   "execution_count": 8,
   "metadata": {
    "ExecuteTime": {
     "end_time": "2023-05-10T15:10:42.403755Z",
     "start_time": "2023-05-10T15:10:42.383169Z"
    }
   },
   "outputs": [
    {
     "data": {
      "text/plain": [
       "True"
      ]
     },
     "execution_count": 8,
     "metadata": {},
     "output_type": "execute_result"
    }
   ],
   "source": [
    "True and True"
   ]
  },
  {
   "cell_type": "code",
   "execution_count": 9,
   "metadata": {
    "ExecuteTime": {
     "end_time": "2023-05-10T15:10:43.022977Z",
     "start_time": "2023-05-10T15:10:43.004698Z"
    }
   },
   "outputs": [
    {
     "data": {
      "text/plain": [
       "False"
      ]
     },
     "execution_count": 9,
     "metadata": {},
     "output_type": "execute_result"
    }
   ],
   "source": [
    "True and False"
   ]
  },
  {
   "cell_type": "code",
   "execution_count": 10,
   "metadata": {
    "ExecuteTime": {
     "end_time": "2023-05-10T15:10:43.429427Z",
     "start_time": "2023-05-10T15:10:43.414770Z"
    }
   },
   "outputs": [
    {
     "data": {
      "text/plain": [
       "False"
      ]
     },
     "execution_count": 10,
     "metadata": {},
     "output_type": "execute_result"
    }
   ],
   "source": [
    "False and True"
   ]
  },
  {
   "cell_type": "code",
   "execution_count": 11,
   "metadata": {
    "ExecuteTime": {
     "end_time": "2023-05-10T15:10:43.820790Z",
     "start_time": "2023-05-10T15:10:43.805986Z"
    }
   },
   "outputs": [
    {
     "data": {
      "text/plain": [
       "False"
      ]
     },
     "execution_count": 11,
     "metadata": {},
     "output_type": "execute_result"
    }
   ],
   "source": [
    "False and False"
   ]
  },
  {
   "cell_type": "markdown",
   "metadata": {},
   "source": [
    ">Do the same using \"or\""
   ]
  },
  {
   "cell_type": "code",
   "execution_count": 12,
   "metadata": {
    "ExecuteTime": {
     "end_time": "2023-05-10T15:12:27.142543Z",
     "start_time": "2023-05-10T15:12:27.136423Z"
    }
   },
   "outputs": [
    {
     "data": {
      "text/plain": [
       "True"
      ]
     },
     "execution_count": 12,
     "metadata": {},
     "output_type": "execute_result"
    }
   ],
   "source": [
    "True or True"
   ]
  },
  {
   "cell_type": "code",
   "execution_count": 13,
   "metadata": {
    "ExecuteTime": {
     "end_time": "2023-05-10T15:12:27.328535Z",
     "start_time": "2023-05-10T15:12:27.319708Z"
    }
   },
   "outputs": [
    {
     "data": {
      "text/plain": [
       "True"
      ]
     },
     "execution_count": 13,
     "metadata": {},
     "output_type": "execute_result"
    }
   ],
   "source": [
    "True or False"
   ]
  },
  {
   "cell_type": "code",
   "execution_count": 14,
   "metadata": {
    "ExecuteTime": {
     "end_time": "2023-05-10T15:12:28.155761Z",
     "start_time": "2023-05-10T15:12:28.148337Z"
    }
   },
   "outputs": [
    {
     "data": {
      "text/plain": [
       "True"
      ]
     },
     "execution_count": 14,
     "metadata": {},
     "output_type": "execute_result"
    }
   ],
   "source": [
    "False or True"
   ]
  },
  {
   "cell_type": "code",
   "execution_count": 15,
   "metadata": {
    "ExecuteTime": {
     "end_time": "2023-05-10T15:12:29.834991Z",
     "start_time": "2023-05-10T15:12:29.814619Z"
    }
   },
   "outputs": [
    {
     "data": {
      "text/plain": [
       "False"
      ]
     },
     "execution_count": 15,
     "metadata": {},
     "output_type": "execute_result"
    }
   ],
   "source": [
    "False or False"
   ]
  },
  {
   "cell_type": "markdown",
   "metadata": {},
   "source": [
    "> combining Booleans for complex if-else<br/>\n",
    "There are 2 classes of students, A and B. There are 10 students in each class. <br/>\n",
    "Only students from Class A, index number 1 to 5 take the exam on 10 Jun. <br/>\n",
    "The rest takes it on 11 Jun."
   ]
  },
  {
   "cell_type": "code",
   "execution_count": 16,
   "metadata": {
    "ExecuteTime": {
     "end_time": "2023-05-10T15:13:06.658077Z",
     "start_time": "2023-05-10T15:12:40.209216Z"
    }
   },
   "outputs": [
    {
     "name": "stdout",
     "output_type": "stream",
     "text": [
      "What is your class? A or B: A\n",
      "What is your index number? 1 - 10: 6\n",
      "Your exam is on the 11 Jun.\n"
     ]
    }
   ],
   "source": [
    "myclass = input(\"What is your class? A or B: \")\n",
    "myindex = input(\"What is your index number? 1 - 10: \")\n",
    "myindex = int(myindex)\n",
    "\n",
    "if myclass == 'A' and myindex <= 5:\n",
    "    print(\"Your exam is on the 10 Jun.\")\n",
    "else:\n",
    "    print(\"Your exam is on the 11 Jun.\")"
   ]
  },
  {
   "cell_type": "markdown",
   "metadata": {},
   "source": [
    "> Now we make the logic a bit more complex.<br/>\n",
    "There are 2 classes of students, A and B. There are 10 students in each class. <br/>\n",
    "Students from Class A, index number 1 to 5 take the exam on 10 Jun. Index number 6 to 10 take it on 11 Jun. <br/>\n",
    "Students from Class B, index number 1 to 4 take the exam on 12 Jun. Index number 5 to 10 take it on 13 Jun."
   ]
  },
  {
   "cell_type": "code",
   "execution_count": 17,
   "metadata": {
    "ExecuteTime": {
     "end_time": "2023-05-10T15:13:37.127581Z",
     "start_time": "2023-05-10T15:13:31.275384Z"
    }
   },
   "outputs": [
    {
     "name": "stdout",
     "output_type": "stream",
     "text": [
      "What is your class? A or B: B\n",
      "What is your index number? 1 - 10: 7\n",
      "Your exam is on the 13 Jun.\n"
     ]
    }
   ],
   "source": [
    "myclass = input(\"What is your class? A or B: \")\n",
    "myindex = input(\"What is your index number? 1 - 10: \")\n",
    "myindex = int(myindex)\n",
    "\n",
    "if myclass == 'A' and myindex <= 5:\n",
    "    print(\"Your exam is on the 10 Jun.\")\n",
    "elif myclass == 'A' and myindex >= 6:\n",
    "    print(\"Your exam is on the 11 Jun.\")\n",
    "elif myclass == 'B' and myindex <= 4:\n",
    "    print(\"Your exam is on the 12 Jun.\")\n",
    "elif myclass == 'B' and myindex >= 5:\n",
    "    print(\"Your exam is on the 13 Jun.\")"
   ]
  },
  {
   "cell_type": "markdown",
   "metadata": {},
   "source": [
    "> while loop allows you to continously loop through code segments until a condition is met. Here, the condition is for counter to be equal to 0, or less for it to stop."
   ]
  },
  {
   "cell_type": "code",
   "execution_count": 18,
   "metadata": {
    "ExecuteTime": {
     "end_time": "2023-05-10T15:13:43.305517Z",
     "start_time": "2023-05-10T15:13:43.285501Z"
    }
   },
   "outputs": [
    {
     "name": "stdout",
     "output_type": "stream",
     "text": [
      "5\n",
      "4\n",
      "3\n",
      "2\n",
      "1\n"
     ]
    }
   ],
   "source": [
    "counter = 5\n",
    "while counter > 0:\n",
    "    print(counter)\n",
    "    counter = counter - 1"
   ]
  },
  {
   "cell_type": "markdown",
   "metadata": {},
   "source": [
    "> you can combine the input function with the while loop to make it more interesting."
   ]
  },
  {
   "cell_type": "code",
   "execution_count": 19,
   "metadata": {
    "ExecuteTime": {
     "end_time": "2023-05-10T15:15:04.628801Z",
     "start_time": "2023-05-10T15:13:48.544352Z"
    }
   },
   "outputs": [
    {
     "name": "stdout",
     "output_type": "stream",
     "text": [
      "[sings] La la la la la\n",
      "[sings] Lulululu\n",
      "[sings] La la la la la\n",
      "[sings] Do do do do do\n",
      "[sings] La la la la la\n",
      "[sings] Pu pu pu pu pu\n",
      "[sings] La la la la la\n",
      "stop\n"
     ]
    }
   ],
   "source": [
    "command = \"\"\n",
    "while command != \"stop\":\n",
    "    print(\"[sings] La la la la la\")\n",
    "    command = input()"
   ]
  },
  {
   "cell_type": "markdown",
   "metadata": {},
   "source": [
    "> The for loop runs for a fixed number of iterations. We use something like a list to loop over."
   ]
  },
  {
   "cell_type": "code",
   "execution_count": 20,
   "metadata": {
    "ExecuteTime": {
     "end_time": "2023-05-10T15:15:14.459972Z",
     "start_time": "2023-05-10T15:15:14.448573Z"
    }
   },
   "outputs": [
    {
     "name": "stdout",
     "output_type": "stream",
     "text": [
      "1\n",
      "2\n",
      "3\n",
      "4\n",
      "5\n"
     ]
    }
   ],
   "source": [
    "for i in [1,2,3,4,5]:\n",
    "    print(i)"
   ]
  },
  {
   "cell_type": "markdown",
   "metadata": {},
   "source": [
    "> range(x) is a function that returns you a list which runs from 0 to x-1"
   ]
  },
  {
   "cell_type": "code",
   "execution_count": 21,
   "metadata": {
    "ExecuteTime": {
     "end_time": "2023-05-10T15:15:27.923966Z",
     "start_time": "2023-05-10T15:15:27.911723Z"
    }
   },
   "outputs": [],
   "source": [
    "#range(5) --> [0,1,2,3,4]\n",
    "#range(5,10) --> [5,6,7,8,9]"
   ]
  },
  {
   "cell_type": "code",
   "execution_count": 22,
   "metadata": {
    "ExecuteTime": {
     "end_time": "2023-05-10T15:15:31.259359Z",
     "start_time": "2023-05-10T15:15:31.248828Z"
    }
   },
   "outputs": [
    {
     "name": "stdout",
     "output_type": "stream",
     "text": [
      "0\n",
      "1\n",
      "2\n",
      "3\n",
      "4\n"
     ]
    }
   ],
   "source": [
    "for i in range(5):\n",
    "    print(i)"
   ]
  },
  {
   "cell_type": "code",
   "execution_count": 23,
   "metadata": {
    "ExecuteTime": {
     "end_time": "2023-05-10T15:15:32.145521Z",
     "start_time": "2023-05-10T15:15:32.132806Z"
    }
   },
   "outputs": [
    {
     "name": "stdout",
     "output_type": "stream",
     "text": [
      "0\n",
      "1\n",
      "2\n",
      "3\n",
      "4\n"
     ]
    }
   ],
   "source": [
    "for i in [0,1,2,3,4]:\n",
    "    print(i)"
   ]
  },
  {
   "cell_type": "code",
   "execution_count": 24,
   "metadata": {
    "ExecuteTime": {
     "end_time": "2023-05-10T15:15:35.558156Z",
     "start_time": "2023-05-10T15:15:35.538865Z"
    }
   },
   "outputs": [
    {
     "name": "stdout",
     "output_type": "stream",
     "text": [
      "5\n",
      "6\n",
      "7\n",
      "8\n",
      "9\n"
     ]
    }
   ],
   "source": [
    "for i in range(5,10):\n",
    "    print(i)"
   ]
  },
  {
   "cell_type": "code",
   "execution_count": 25,
   "metadata": {
    "ExecuteTime": {
     "end_time": "2023-05-10T15:15:38.093621Z",
     "start_time": "2023-05-10T15:15:38.080116Z"
    }
   },
   "outputs": [
    {
     "name": "stdout",
     "output_type": "stream",
     "text": [
      "5\n",
      "6\n",
      "7\n",
      "8\n",
      "9\n"
     ]
    }
   ],
   "source": [
    "for i in [5,6,7,8,9]:\n",
    "    print(i)"
   ]
  },
  {
   "cell_type": "code",
   "execution_count": 26,
   "metadata": {
    "ExecuteTime": {
     "end_time": "2023-05-10T15:15:39.009548Z",
     "start_time": "2023-05-10T15:15:38.993630Z"
    }
   },
   "outputs": [
    {
     "name": "stdout",
     "output_type": "stream",
     "text": [
      "1\n",
      "2\n",
      "3\n",
      "4\n",
      "5\n"
     ]
    }
   ],
   "source": [
    "x = [1,2,3,4,5]\n",
    "for i in x:\n",
    "    print(i)"
   ]
  },
  {
   "cell_type": "markdown",
   "metadata": {},
   "source": [
    ">len of a list gives you the number of elements in a list."
   ]
  },
  {
   "cell_type": "code",
   "execution_count": 27,
   "metadata": {
    "ExecuteTime": {
     "end_time": "2023-05-10T15:15:42.762410Z",
     "start_time": "2023-05-10T15:15:42.741253Z"
    }
   },
   "outputs": [
    {
     "data": {
      "text/plain": [
       "5"
      ]
     },
     "execution_count": 27,
     "metadata": {},
     "output_type": "execute_result"
    }
   ],
   "source": [
    "len(x)"
   ]
  },
  {
   "cell_type": "markdown",
   "metadata": {},
   "source": [
    "> What is the difference between this and the previous way of iterating through a list?"
   ]
  },
  {
   "cell_type": "code",
   "execution_count": 28,
   "metadata": {
    "ExecuteTime": {
     "end_time": "2023-05-10T15:16:13.677254Z",
     "start_time": "2023-05-10T15:16:13.666880Z"
    }
   },
   "outputs": [
    {
     "name": "stdout",
     "output_type": "stream",
     "text": [
      "1\n",
      "2\n",
      "3\n",
      "4\n",
      "5\n"
     ]
    }
   ],
   "source": [
    "x = [1,2,3,4,5]\n",
    "for i in range( len(x) ):\n",
    "    print(x[i])"
   ]
  },
  {
   "cell_type": "markdown",
   "metadata": {},
   "source": [
    "> You use this approach when you want to modify the contents of the list."
   ]
  },
  {
   "cell_type": "code",
   "execution_count": 29,
   "metadata": {
    "ExecuteTime": {
     "end_time": "2023-05-10T15:17:18.951035Z",
     "start_time": "2023-05-10T15:17:18.943596Z"
    }
   },
   "outputs": [
    {
     "name": "stdout",
     "output_type": "stream",
     "text": [
      "[1, 2, 10, 4, 5]\n"
     ]
    }
   ],
   "source": [
    "for i in range( len(x) ):\n",
    "    item = x[i]\n",
    "    if item == 3:\n",
    "        x[i] = 10\n",
    "print(x)"
   ]
  },
  {
   "cell_type": "markdown",
   "metadata": {},
   "source": [
    "> Iterating with the old way does not allow you to modify the contents"
   ]
  },
  {
   "cell_type": "code",
   "execution_count": 30,
   "metadata": {
    "ExecuteTime": {
     "end_time": "2023-05-10T15:17:21.892864Z",
     "start_time": "2023-05-10T15:17:21.887212Z"
    }
   },
   "outputs": [
    {
     "name": "stdout",
     "output_type": "stream",
     "text": [
      "[1, 2, 3, 4, 5]\n"
     ]
    }
   ],
   "source": [
    "x = [1,2,3,4,5]\n",
    "for i in x:\n",
    "    if i == 3:\n",
    "        i = 10\n",
    "print(x)"
   ]
  },
  {
   "cell_type": "markdown",
   "metadata": {},
   "source": [
    "# !! Your Turn !!"
   ]
  },
  {
   "cell_type": "markdown",
   "metadata": {},
   "source": [
    "## Replace the code marked as <..> COMPLETELY with your own.\n",
    "For example:\n",
    "length = <..> will be replaced by length = 10"
   ]
  },
  {
   "cell_type": "markdown",
   "metadata": {},
   "source": [
    "# Question 0 "
   ]
  },
  {
   "cell_type": "code",
   "execution_count": 31,
   "metadata": {
    "ExecuteTime": {
     "end_time": "2023-05-10T15:17:38.981475Z",
     "start_time": "2023-05-10T15:17:28.475682Z"
    }
   },
   "outputs": [
    {
     "name": "stdout",
     "output_type": "stream",
     "text": [
      "type in your full nameElias Chang Rui Yuan\n",
      "Elias Chang Rui Yuan\n"
     ]
    }
   ],
   "source": [
    "name = input(\"type in your full name\")\n",
    "print(name)"
   ]
  },
  {
   "cell_type": "markdown",
   "metadata": {},
   "source": [
    "# Question 1\n",
    "1) x % 2 == 0 returns True if x is an even number<br/>\n",
    "2) Declare a variable, <b>x</b> that stores a number of your choice.<br/>\n",
    "3) write the if-else statements such that if x is an even number, print \"x is an even number\". if it is not, print that it is an odd number."
   ]
  },
  {
   "cell_type": "code",
   "execution_count": 32,
   "metadata": {
    "ExecuteTime": {
     "end_time": "2023-05-10T15:19:08.912707Z",
     "start_time": "2023-05-10T15:19:08.893868Z"
    }
   },
   "outputs": [
    {
     "name": "stdout",
     "output_type": "stream",
     "text": [
      "5 is an odd number\n"
     ]
    }
   ],
   "source": [
    "x = 5 #can be any value\n",
    "if x % 2 == 0:\n",
    "    print(f\"{x} is an even number\")\n",
    "else:\n",
    "    print(f\"{x} is an odd number\")"
   ]
  },
  {
   "cell_type": "markdown",
   "metadata": {},
   "source": [
    "# Question 2\n",
    "1) Declare a variable, <b>score</b> that stores a number of your choice from 0 to 100.<br/>\n",
    "2) print out the respective letter grade for your score.<br/>\n",
    "A is $\\geq$ 75<br/>\n",
    "B is 60 to 74<br/>\n",
    "C is 50 to 59<br/>\n",
    "F is < 50<br/>"
   ]
  },
  {
   "cell_type": "code",
   "execution_count": 36,
   "metadata": {
    "ExecuteTime": {
     "end_time": "2023-05-10T15:20:45.339352Z",
     "start_time": "2023-05-10T15:20:45.326342Z"
    }
   },
   "outputs": [
    {
     "name": "stdout",
     "output_type": "stream",
     "text": [
      "F\n"
     ]
    }
   ],
   "source": [
    "score = 3 #can be any value from 0 to 100\n",
    "\n",
    "if score >= 75:\n",
    "    print(\"A\")\n",
    "elif score >= 60:\n",
    "    print(\"B\")\n",
    "elif score >= 50:\n",
    "    print(\"C\")\n",
    "else:\n",
    "    print(\"F\")"
   ]
  },
  {
   "cell_type": "markdown",
   "metadata": {},
   "source": [
    "# Question 3\n",
    "1) Declare a variable, <b>citizen</b> and store a value of True or False (you choose)<br/>\n",
    "2) Declare a variable, <b>special_event</b> and store a value True or False (you choose)<br/>\n",
    "3) Write the logic for the following: <br/><br/>\n",
    "\n",
    "if a person is a citizen and there is a special event, print out 'Enter museum for free'<br/>\n",
    "if a person is a citzen and there is no special event, print out 'Pay 10 dollars'<br/>\n",
    "if a person is not a citizen and there is a special event, print out 'Pay 25 dollars'<br/>\n",
    "if a person is not a citizen and there is no special event, print out 'Pay 50 dollars'<br/>"
   ]
  },
  {
   "cell_type": "code",
   "execution_count": 40,
   "metadata": {
    "ExecuteTime": {
     "end_time": "2023-05-10T15:22:58.770719Z",
     "start_time": "2023-05-10T15:22:58.756652Z"
    }
   },
   "outputs": [
    {
     "name": "stdout",
     "output_type": "stream",
     "text": [
      "Pay $25\n"
     ]
    }
   ],
   "source": [
    "citizen = False\n",
    "special_event = True\n",
    "\n",
    "if citizen and special_event:\n",
    "    print(\"Can enter museum for free\")\n",
    "elif citizen and not special_event:\n",
    "    print(\"Pay $10\")\n",
    "elif not citizen and special_event:\n",
    "    print(\"Pay $25\")\n",
    "elif not citizen and not special_event:\n",
    "    print(\"Pay $50\")"
   ]
  },
  {
   "cell_type": "markdown",
   "metadata": {},
   "source": [
    "# Question 4\n",
    "1) Code out the following:<br/><br/>\n",
    "   Prompt for an input for \"Coffee or Tea\".<br/>\n",
    "   If the input is \"Coffee\", print out \"Starbucks is to your right.\"<br/>\n",
    "   Else if the input is \"Tea\", print out \"TWG cafe is to your left.\"<br/>\n",
    "   If the input is anything else, print out \"I don't understand you.\"<br/>"
   ]
  },
  {
   "cell_type": "code",
   "execution_count": 43,
   "metadata": {
    "ExecuteTime": {
     "end_time": "2023-05-10T15:24:53.403937Z",
     "start_time": "2023-05-10T15:24:35.139351Z"
    }
   },
   "outputs": [
    {
     "name": "stdout",
     "output_type": "stream",
     "text": [
      "Coffee or Tea? Yuan Yang\n",
      "I don't understand you.\n"
     ]
    }
   ],
   "source": [
    "selection = input(\"Coffee or Tea? \")\n",
    "if selection == 'Coffee':\n",
    "    print(\"Starbucks is to your right.\")\n",
    "elif selection == 'Tea':\n",
    "    print(\"TWG cafe is to your left.\")\n",
    "else:\n",
    "    print(\"I don't understand you.\")"
   ]
  },
  {
   "cell_type": "markdown",
   "metadata": {},
   "source": [
    "# Question 5\n",
    "1) Improve upon your answer in Question 4 using the str methods, such that even if you type in 'coffee' or 'CoFFee' or 'COFFEE', the code will still work."
   ]
  },
  {
   "cell_type": "code",
   "execution_count": 44,
   "metadata": {
    "ExecuteTime": {
     "end_time": "2023-05-10T15:26:24.849831Z",
     "start_time": "2023-05-10T15:26:20.025350Z"
    }
   },
   "outputs": [
    {
     "name": "stdout",
     "output_type": "stream",
     "text": [
      "Coffee or Tea? COffEE\n",
      "Starbucks is to your right.\n"
     ]
    }
   ],
   "source": [
    "selection = input(\"Coffee or Tea? \")\n",
    "if selection.lower() == 'Coffee'.lower():\n",
    "    print(\"Starbucks is to your right.\")\n",
    "elif selection.lower() == 'Tea'.lower():\n",
    "    print(\"TWG cafe is to your left.\")\n",
    "else:\n",
    "    print(\"I don't understand you.\")"
   ]
  },
  {
   "cell_type": "markdown",
   "metadata": {},
   "source": [
    "# Question 6"
   ]
  },
  {
   "cell_type": "markdown",
   "metadata": {},
   "source": [
    "1) Print out \"Hello\" 5 times using a for loop. <br/>\n",
    "Hint: range(x) creates a sequence of numbers from 0 to x-1"
   ]
  },
  {
   "cell_type": "code",
   "execution_count": 45,
   "metadata": {
    "ExecuteTime": {
     "end_time": "2023-05-10T15:27:06.838408Z",
     "start_time": "2023-05-10T15:27:06.819746Z"
    }
   },
   "outputs": [
    {
     "name": "stdout",
     "output_type": "stream",
     "text": [
      "Hello\n",
      "Hello\n",
      "Hello\n",
      "Hello\n",
      "Hello\n"
     ]
    }
   ],
   "source": [
    "for i in range(5):\n",
    "    print(\"Hello\")"
   ]
  },
  {
   "cell_type": "markdown",
   "metadata": {},
   "source": [
    "2) Print out \"Hello\" 5 times using a while loop. <br/>\n",
    "Hint: <b>x -= 1</b> is the same as <b>x = x - 1</b>. We call this \"syntactic sugar\"."
   ]
  },
  {
   "cell_type": "code",
   "execution_count": 47,
   "metadata": {
    "ExecuteTime": {
     "end_time": "2023-05-10T15:28:31.981477Z",
     "start_time": "2023-05-10T15:28:31.970868Z"
    }
   },
   "outputs": [
    {
     "name": "stdout",
     "output_type": "stream",
     "text": [
      "Hello\n",
      "Hello\n",
      "Hello\n",
      "Hello\n",
      "Hello\n"
     ]
    }
   ],
   "source": [
    "counter = 5\n",
    "while counter > 0:\n",
    "    print(\"Hello\")\n",
    "    counter -= 1"
   ]
  },
  {
   "cell_type": "markdown",
   "metadata": {},
   "source": [
    "# Question 7\n",
    "1) Create a list of numbers 1 to 20 into a variable, <b>numbers</b>. <br/>\n",
    "2) Write a for loop to print out all the numbers."
   ]
  },
  {
   "cell_type": "code",
   "execution_count": 48,
   "metadata": {
    "ExecuteTime": {
     "end_time": "2023-05-10T15:29:55.205783Z",
     "start_time": "2023-05-10T15:29:55.189671Z"
    }
   },
   "outputs": [
    {
     "name": "stdout",
     "output_type": "stream",
     "text": [
      "1\n",
      "2\n",
      "3\n",
      "4\n",
      "5\n",
      "6\n",
      "7\n",
      "8\n",
      "9\n",
      "10\n",
      "11\n",
      "12\n",
      "13\n",
      "14\n",
      "15\n",
      "16\n",
      "17\n",
      "18\n",
      "19\n",
      "20\n"
     ]
    }
   ],
   "source": [
    "numbers = range(1,21) # or numbers = range(1,21)\n",
    "\n",
    "for i in numbers:\n",
    "    print(i)"
   ]
  },
  {
   "cell_type": "markdown",
   "metadata": {},
   "source": [
    "3) Write a for loop which prints out ONLY the Even numbers."
   ]
  },
  {
   "cell_type": "code",
   "execution_count": 50,
   "metadata": {
    "ExecuteTime": {
     "end_time": "2023-05-10T15:31:02.423433Z",
     "start_time": "2023-05-10T15:31:02.404924Z"
    }
   },
   "outputs": [
    {
     "name": "stdout",
     "output_type": "stream",
     "text": [
      "2\n",
      "4\n",
      "6\n",
      "8\n",
      "10\n",
      "12\n",
      "14\n",
      "16\n",
      "18\n",
      "20\n"
     ]
    }
   ],
   "source": [
    "for i in numbers:\n",
    "    if i % 2 == 0:\n",
    "        print(i)"
   ]
  },
  {
   "cell_type": "markdown",
   "metadata": {},
   "source": [
    "4) Write a for loop which prints out ONLY the Odd numbers."
   ]
  },
  {
   "cell_type": "code",
   "execution_count": 51,
   "metadata": {
    "ExecuteTime": {
     "end_time": "2023-05-10T15:31:06.697529Z",
     "start_time": "2023-05-10T15:31:06.690040Z"
    }
   },
   "outputs": [
    {
     "name": "stdout",
     "output_type": "stream",
     "text": [
      "1\n",
      "3\n",
      "5\n",
      "7\n",
      "9\n",
      "11\n",
      "13\n",
      "15\n",
      "17\n",
      "19\n"
     ]
    }
   ],
   "source": [
    "for i in numbers:\n",
    "    if i % 2 != 0:\n",
    "        print(i)"
   ]
  },
  {
   "cell_type": "markdown",
   "metadata": {},
   "source": [
    "# Question 8 *\n",
    "1) Code out the following:<br/>\n",
    "    (to check if x is divisible by y, use x % y == 0)<br/><br/>\n",
    "   Prompt for an input to check if a particular year is a leap year.<br/>\n",
    "   Convert the input into an integer.<br/>\n",
    "   If the year is not divisible by 4, it is not a leap year. (e.g. 1997)<br/>\n",
    "   If the year is divisble by 4, it is a leap year unless: <br/>\n",
    "   It is divisible by 100 and not divisible by 400 (e.g. 2012)<br/>"
   ]
  },
  {
   "cell_type": "code",
   "execution_count": 3,
   "metadata": {
    "ExecuteTime": {
     "end_time": "2023-05-10T15:38:12.998058Z",
     "start_time": "2023-05-10T15:38:06.226133Z"
    }
   },
   "outputs": [
    {
     "name": "stdout",
     "output_type": "stream",
     "text": [
      "Input the year: 2100\n",
      "2100 is not a leap year\n"
     ]
    }
   ],
   "source": [
    "year = input(\"Input the year: \")\n",
    "year = int(year)\n",
    "\n",
    "if year % 4 != 0:\n",
    "    print(year,\"is not a leap year\")\n",
    "elif year % 4 == 0:\n",
    "    if year % 100 == 0 and year % 400 != 0:\n",
    "        print(year,\"is not a leap year\")\n",
    "    else:\n",
    "        print(year,\"is a leap year\")"
   ]
  },
  {
   "cell_type": "markdown",
   "metadata": {},
   "source": [
    "<i>Notes: Reference for leap year logic - http://www.mathsisfun.com/leap-years.html</i>"
   ]
  },
  {
   "cell_type": "markdown",
   "metadata": {},
   "source": [
    "# Question 9 *\n",
    "1) Create a list of 5 birthdays (your choice in DDMMYYYY format) and store them into a list, <b>birthdays</b>. <br/>\n",
    "2) Write a for loop to print out all the birthdays."
   ]
  },
  {
   "cell_type": "code",
   "execution_count": 36,
   "metadata": {
    "ExecuteTime": {
     "end_time": "2023-05-10T16:09:02.909183Z",
     "start_time": "2023-05-10T16:08:41.302439Z"
    }
   },
   "outputs": [
    {
     "name": "stdout",
     "output_type": "stream",
     "text": [
      "Give me 5 birthdays: 01012001\n",
      "Give me 5 birthdays: 02022002\n",
      "Give me 5 birthdays: 03032003\n",
      "Give me 5 birthdays: 04042004\n",
      "Give me 5 birthdays: 05052005\n",
      "\n",
      "01012001\n",
      "\n",
      "02022002\n",
      "\n",
      "03032003\n",
      "\n",
      "04042004\n",
      "\n",
      "05052005\n"
     ]
    }
   ],
   "source": [
    "birthday_count = 0\n",
    "birthdays = []\n",
    "while birthday_count < 5:\n",
    "    birthdays.append(str(input(\"Give me 5 birthdays: \")))\n",
    "    birthday_count += 1\n",
    "for birthday in birthdays:\n",
    "    print(f'\\n{birthday}')"
   ]
  },
  {
   "cell_type": "markdown",
   "metadata": {},
   "source": [
    "3) Write a for loop to extract out the last 4 characters of the birthdays and print them out only."
   ]
  },
  {
   "cell_type": "code",
   "execution_count": 39,
   "metadata": {
    "ExecuteTime": {
     "end_time": "2023-05-10T16:09:36.365038Z",
     "start_time": "2023-05-10T16:09:36.355309Z"
    }
   },
   "outputs": [
    {
     "name": "stdout",
     "output_type": "stream",
     "text": [
      "\n",
      "02022002\n",
      "\n",
      "03032003\n",
      "\n",
      "04042004\n",
      "\n",
      "05052005\n"
     ]
    }
   ],
   "source": [
    "i = 0\n",
    "for birthday in birthdays:\n",
    "    if i > 0:\n",
    "        print(f'\\n{birthday}')\n",
    "    i += 1"
   ]
  },
  {
   "cell_type": "markdown",
   "metadata": {},
   "source": [
    "4) Write a for loop to print out the birthday, and the corresponding age this year. Consider only the year of birth, can ignore the days and months.<br/>\n",
    "for example:<br/>\n",
    "10101975 --> 45<br/>\n",
    "01051990 --> 30<br/>"
   ]
  },
  {
   "cell_type": "code",
   "execution_count": 40,
   "metadata": {
    "ExecuteTime": {
     "end_time": "2023-05-10T16:09:44.320267Z",
     "start_time": "2023-05-10T16:09:42.298668Z"
    }
   },
   "outputs": [
    {
     "name": "stdout",
     "output_type": "stream",
     "text": [
      "This year is 2023\n",
      "01012001==>22\n",
      "02022002==>21\n",
      "03032003==>20\n",
      "04042004==>19\n",
      "05052005==>18\n"
     ]
    }
   ],
   "source": [
    "current_year = int(input('This year is '))\n",
    "i = 0\n",
    "for _ in birthdays:\n",
    "    print(f'{birthdays[i]}==>{current_year-int(birthdays[i][-4:])}')\n",
    "    i += 1"
   ]
  },
  {
   "cell_type": "markdown",
   "metadata": {},
   "source": [
    "5) Convert the list of birthdays into a list of ages<br/>\n",
    "For example:<br/>\n",
    "Before Conversion<br/>\n",
    "['10101975', '01051990', '22112000', '12042010', '01011999']<br/>\n",
    "After Conversion<br/>\n",
    "[45, 30, 20, 10, 21]<br/><br/>\n",
    "\n",
    "6) Print out the variable, birthdays to verify."
   ]
  },
  {
   "cell_type": "code",
   "execution_count": 41,
   "metadata": {
    "ExecuteTime": {
     "end_time": "2023-05-10T16:15:12.216799Z",
     "start_time": "2023-05-10T16:15:12.196967Z"
    }
   },
   "outputs": [
    {
     "name": "stdout",
     "output_type": "stream",
     "text": [
      "Before Conversion\n",
      "['01012001', '02022002', '03032003', '04042004', '05052005']\n"
     ]
    },
    {
     "data": {
      "text/plain": [
       "[22, 21, 20, 19, 18]"
      ]
     },
     "execution_count": 41,
     "metadata": {},
     "output_type": "execute_result"
    }
   ],
   "source": [
    "print(\"Before Conversion\")\n",
    "print(birthdays)\n",
    "\n",
    "for i, birthday in enumerate(birthdays):\n",
    "    birthdays[i] = current_year-int(birthdays[i][-4:])\n",
    "\n",
    "birthdays"
   ]
  },
  {
   "cell_type": "markdown",
   "metadata": {},
   "source": [
    "# Question 10 *"
   ]
  },
  {
   "cell_type": "markdown",
   "metadata": {},
   "source": [
    "ASSUME THAT YOU DO NOT NEED TO DO ANY ERROR DETECTION<br/><br/>\n",
    "1) Write a while loop that:<br/>\n",
    "- asks the user 'What is your command?'<br/>\n",
    "- if the user's command is exit, then print out \"Exiting\" and exit out of the loop.\n",
    "- if the user's command is 'add', then print out \"Your command is add.\"\n",
    "- if the user's command is 'minus', then print out \"Your command is minus.\"<br/>\n",
    "- if the user keys in anything else, then print out \"Unknown command\"<br/><br/>\n",
    "\n",
    "<b>Sample Output:</b><br/>\n",
    "What is your command? add<br/>\n",
    "Your command is add<br/>\n",
    "What is your command? minus<br/>\n",
    "Your command is minus<br/>\n",
    "What is your command? hello<br/>\n",
    "Unknown command<br/>\n",
    "What is your command? exit<br/>\n",
    "Exiting<br/>"
   ]
  },
  {
   "cell_type": "code",
   "execution_count": 43,
   "metadata": {
    "ExecuteTime": {
     "end_time": "2023-05-10T16:21:50.670429Z",
     "start_time": "2023-05-10T16:21:36.910474Z"
    }
   },
   "outputs": [
    {
     "name": "stdout",
     "output_type": "stream",
     "text": [
      "What is your command? add\n",
      "Your command is add\n",
      "What is your command? minus\n",
      "Your command is minus\n",
      "What is your command? ffff\n",
      "Unknown command\n",
      "What is your command? exit\n",
      "Exiting\n"
     ]
    }
   ],
   "source": [
    "command = \"\"\n",
    "while command != \"exit\":\n",
    "    command = input('What is your command? ')\n",
    "    if command == 'add':\n",
    "        print('Your command is add')\n",
    "    elif command == 'minus':\n",
    "        print('Your command is minus')\n",
    "    elif command == 'exit':\n",
    "        pass\n",
    "    else:\n",
    "        print('Unknown command')\n",
    "print('Exiting')"
   ]
  },
  {
   "cell_type": "markdown",
   "metadata": {},
   "source": [
    "2) Let's enhance your code above into a program that can do addition.<br/>\n",
    "After you prompt for the command, if the user keys in 'add', then print out the result of both numbers added together.<br/><br/>\n",
    "<b>Sample Output</b><br/>\n",
    "What is your command? add<br/>\n",
    "Your command is add<br/>\n",
    "What is the first number? 2<br/>\n",
    "What is the second number? 3<br/>\n",
    "The answer is 5<br/>\n",
    "What is your command? exit<br/>\n",
    "Exiting<br/>"
   ]
  },
  {
   "cell_type": "code",
   "execution_count": 44,
   "metadata": {
    "ExecuteTime": {
     "end_time": "2023-05-10T16:25:01.370429Z",
     "start_time": "2023-05-10T16:24:43.719675Z"
    }
   },
   "outputs": [
    {
     "name": "stdout",
     "output_type": "stream",
     "text": [
      "What is your command? add\n",
      "Your command is add\n",
      "What is the first number? 10\n",
      "What is the second number? 20\n",
      "The number is 30\n",
      "What is your command? exit\n",
      "Exiting\n"
     ]
    }
   ],
   "source": [
    "command = \"\"\n",
    "while command != \"exit\":\n",
    "    command = input('What is your command? ')\n",
    "    if command == 'add':\n",
    "        print('Your command is add')\n",
    "        first_num = input('What is the first number? ')\n",
    "        second_num = input('What is the second number? ')\n",
    "        print(f'The number is {int(first_num)+int(second_num)}')\n",
    "    elif command == 'minus':\n",
    "        print('Your command is minus')\n",
    "    elif command == 'exit':\n",
    "        pass\n",
    "    else:\n",
    "        print('Unknown command')\n",
    "print('Exiting')"
   ]
  },
  {
   "cell_type": "markdown",
   "metadata": {},
   "source": [
    "3) Add on to your program to be able to handle subraction.<br/><br/>\n",
    "\n",
    "<b>Sample Output</b><br/>\n",
    "What is your command? minus<br/>\n",
    "Your command is minus<br/>\n",
    "What is the first number? 10<br/>\n",
    "What is the second number? 5<br/>\n",
    "The answer is 5<br/>\n",
    "What is your command? exit<br/>\n",
    "Exiting<br/>"
   ]
  },
  {
   "cell_type": "code",
   "execution_count": 45,
   "metadata": {
    "ExecuteTime": {
     "end_time": "2023-05-10T16:26:10.027350Z",
     "start_time": "2023-05-10T16:25:49.643903Z"
    }
   },
   "outputs": [
    {
     "name": "stdout",
     "output_type": "stream",
     "text": [
      "What is your command? 10\n",
      "Unknown command\n",
      "What is your command? minus\n",
      "Your command is minus\n",
      "What is the first number? 10\n",
      "What is the second number? 5\n",
      "The number is 5\n",
      "What is your command? exit\n",
      "Exiting\n"
     ]
    }
   ],
   "source": [
    "command = \"\"\n",
    "while command != \"exit\":\n",
    "    command = input('What is your command? ')\n",
    "    if command == 'add':\n",
    "        print('Your command is add')\n",
    "        first_num = input('What is the first number? ')\n",
    "        second_num = input('What is the second number? ')\n",
    "        print(f'The number is {int(first_num)+int(second_num)}')\n",
    "    elif command == 'minus':\n",
    "        print('Your command is minus')\n",
    "        first_num = input('What is the first number? ')\n",
    "        second_num = input('What is the second number? ')\n",
    "        print(f'The number is {int(first_num)-int(second_num)}')\n",
    "    elif command == 'exit':\n",
    "        pass\n",
    "    else:\n",
    "        print('Unknown command')\n",
    "print('Exiting')"
   ]
  }
 ],
 "metadata": {
  "kernelspec": {
   "display_name": "DC_Bootcamp",
   "language": "python",
   "name": "dc_bootcamp"
  },
  "language_info": {
   "codemirror_mode": {
    "name": "ipython",
    "version": 3
   },
   "file_extension": ".py",
   "mimetype": "text/x-python",
   "name": "python",
   "nbconvert_exporter": "python",
   "pygments_lexer": "ipython3",
   "version": "3.10.11"
  }
 },
 "nbformat": 4,
 "nbformat_minor": 4
}
