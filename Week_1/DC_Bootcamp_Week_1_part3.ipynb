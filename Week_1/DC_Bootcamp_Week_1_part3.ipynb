{
 "cells": [
  {
   "cell_type": "markdown",
   "metadata": {
    "id": "-PvXr_PFJ7LO"
   },
   "source": [
    "# List, Tuple, Dictionary, Set Operations"
   ]
  },
  {
   "cell_type": "markdown",
   "metadata": {
    "id": "kq0ltuzgJ7LP"
   },
   "source": [
    "## Run The Following Code\n",
    "Hit SHIFT + ENTER when your cusor is inside the cell of code.<br/>"
   ]
  },
  {
   "cell_type": "markdown",
   "metadata": {
    "id": "miZ5BRA2J7LQ"
   },
   "source": [
    "> Create a variable to hold the values \"apple\", \"banana\", \"chiku\", \"durian\". Assign them to the variable <b>store</b> using a list."
   ]
  },
  {
   "cell_type": "code",
   "execution_count": 1,
   "metadata": {
    "id": "FCKcMwu9J7LQ"
   },
   "outputs": [
    {
     "name": "stdout",
     "output_type": "stream",
     "text": [
      "['apple', 'banana', 'chiku', 'durian']\n"
     ]
    }
   ],
   "source": [
    "store = [\"apple\", \"banana\", \"chiku\", \"durian\"]\n",
    "print(store)"
   ]
  },
  {
   "cell_type": "code",
   "execution_count": 2,
   "metadata": {
    "id": "wGH9V9kOJ7LR"
   },
   "outputs": [
    {
     "data": {
      "text/plain": [
       "list"
      ]
     },
     "execution_count": 2,
     "metadata": {},
     "output_type": "execute_result"
    }
   ],
   "source": [
    "type(store)"
   ]
  },
  {
   "cell_type": "code",
   "execution_count": 3,
   "metadata": {
    "id": "NmdtXRN-J7LR"
   },
   "outputs": [
    {
     "data": {
      "text/plain": [
       "'banana'"
      ]
     },
     "execution_count": 3,
     "metadata": {},
     "output_type": "execute_result"
    }
   ],
   "source": [
    "#print out banana\n",
    "store[1]"
   ]
  },
  {
   "cell_type": "markdown",
   "metadata": {
    "id": "b1ATfijaJ7LR"
   },
   "source": [
    "> Use a tuple instead."
   ]
  },
  {
   "cell_type": "code",
   "execution_count": 4,
   "metadata": {
    "id": "HxUZzgjHJ7LR"
   },
   "outputs": [
    {
     "name": "stdout",
     "output_type": "stream",
     "text": [
      "('apple', 'banana', 'chiku', 'durian')\n"
     ]
    }
   ],
   "source": [
    "store_tuple = (\"apple\", \"banana\", \"chiku\", \"durian\")\n",
    "print(store_tuple)"
   ]
  },
  {
   "cell_type": "code",
   "execution_count": 5,
   "metadata": {
    "id": "SM6gQw4NJ7LS"
   },
   "outputs": [
    {
     "data": {
      "text/plain": [
       "tuple"
      ]
     },
     "execution_count": 5,
     "metadata": {},
     "output_type": "execute_result"
    }
   ],
   "source": [
    "type(store_tuple)"
   ]
  },
  {
   "cell_type": "code",
   "execution_count": 6,
   "metadata": {
    "id": "Hsqo8phuJ7LS"
   },
   "outputs": [
    {
     "data": {
      "text/plain": [
       "'banana'"
      ]
     },
     "execution_count": 6,
     "metadata": {},
     "output_type": "execute_result"
    }
   ],
   "source": [
    "#print out banana\n",
    "store_tuple[1]"
   ]
  },
  {
   "cell_type": "markdown",
   "metadata": {
    "id": "0sW2Uz6RJ7LS"
   },
   "source": [
    "> Using tuples to swap values in a variable"
   ]
  },
  {
   "cell_type": "code",
   "execution_count": 7,
   "metadata": {
    "id": "T4lZRTwXJ7LS"
   },
   "outputs": [
    {
     "name": "stdout",
     "output_type": "stream",
     "text": [
      "Key in a name: POP\n"
     ]
    }
   ],
   "source": [
    "x = input(\"Key in a name: \")"
   ]
  },
  {
   "cell_type": "code",
   "execution_count": 8,
   "metadata": {
    "id": "MDQDwNcvJ7LS"
   },
   "outputs": [
    {
     "name": "stdout",
     "output_type": "stream",
     "text": [
      "Key in another name: ORD\n"
     ]
    }
   ],
   "source": [
    "y = input(\"Key in another name: \")"
   ]
  },
  {
   "cell_type": "code",
   "execution_count": 9,
   "metadata": {
    "id": "wNkoBg_LJ7LT"
   },
   "outputs": [
    {
     "name": "stdout",
     "output_type": "stream",
     "text": [
      "POP\n",
      "ORD\n"
     ]
    }
   ],
   "source": [
    "print(x)\n",
    "print(y)"
   ]
  },
  {
   "cell_type": "code",
   "execution_count": 10,
   "metadata": {
    "id": "DY79RGhPJ7LT"
   },
   "outputs": [],
   "source": [
    "#Using another variable, swap the values of x with y.\n",
    "z = x\n",
    "x = y\n",
    "y = z"
   ]
  },
  {
   "cell_type": "code",
   "execution_count": 11,
   "metadata": {
    "id": "kDOesdYmJ7LT"
   },
   "outputs": [
    {
     "name": "stdout",
     "output_type": "stream",
     "text": [
      "ORD\n",
      "POP\n"
     ]
    }
   ],
   "source": [
    "print(x)\n",
    "print(y)"
   ]
  },
  {
   "cell_type": "code",
   "execution_count": 12,
   "metadata": {
    "id": "3BPr2fryJ7LT"
   },
   "outputs": [],
   "source": [
    "#Without using another variable, swap the values of x with y.\n",
    "x = x + y\n",
    "y = x[0:3]\n",
    "x = x[-3:]"
   ]
  },
  {
   "cell_type": "code",
   "execution_count": 13,
   "metadata": {
    "id": "dglyLtOFJ7LT"
   },
   "outputs": [
    {
     "name": "stdout",
     "output_type": "stream",
     "text": [
      "POP\n",
      "ORD\n"
     ]
    }
   ],
   "source": [
    "print(x)\n",
    "print(y)"
   ]
  },
  {
   "cell_type": "markdown",
   "metadata": {
    "id": "n-1owBsYJ7LU"
   },
   "source": [
    "> Use a dictionary instead."
   ]
  },
  {
   "cell_type": "code",
   "execution_count": 14,
   "metadata": {
    "id": "FlQ4SpJnJ7LU"
   },
   "outputs": [
    {
     "name": "stdout",
     "output_type": "stream",
     "text": [
      "{'fruit1': 'apple', 'fruit2': 'banana', 'fruit3': 'chiku', 'fruit4': 'durian'}\n"
     ]
    }
   ],
   "source": [
    "store_dict = {\"fruit1\":\"apple\", \"fruit2\":\"banana\", \"fruit3\":\"chiku\", \"fruit4\":\"durian\"}\n",
    "print(store_dict)"
   ]
  },
  {
   "cell_type": "code",
   "execution_count": 15,
   "metadata": {
    "id": "uw5-Tm_NJ7LU"
   },
   "outputs": [
    {
     "data": {
      "text/plain": [
       "dict"
      ]
     },
     "execution_count": 15,
     "metadata": {},
     "output_type": "execute_result"
    }
   ],
   "source": [
    "type(store_dict)"
   ]
  },
  {
   "cell_type": "code",
   "execution_count": 16,
   "metadata": {
    "id": "iE8r96nQJ7LU"
   },
   "outputs": [
    {
     "data": {
      "text/plain": [
       "dict_keys(['fruit1', 'fruit2', 'fruit3', 'fruit4'])"
      ]
     },
     "execution_count": 16,
     "metadata": {},
     "output_type": "execute_result"
    }
   ],
   "source": [
    "store_dict.keys()"
   ]
  },
  {
   "cell_type": "code",
   "execution_count": 17,
   "metadata": {
    "id": "U1Mm9Bz_J7LU"
   },
   "outputs": [
    {
     "data": {
      "text/plain": [
       "dict_values(['apple', 'banana', 'chiku', 'durian'])"
      ]
     },
     "execution_count": 17,
     "metadata": {},
     "output_type": "execute_result"
    }
   ],
   "source": [
    "store_dict.values()"
   ]
  },
  {
   "cell_type": "code",
   "execution_count": 18,
   "metadata": {
    "id": "wUN-XeYdJ7LU"
   },
   "outputs": [
    {
     "data": {
      "text/plain": [
       "'banana'"
      ]
     },
     "execution_count": 18,
     "metadata": {},
     "output_type": "execute_result"
    }
   ],
   "source": [
    "#print out banana\n",
    "store_dict['fruit2']"
   ]
  },
  {
   "cell_type": "markdown",
   "metadata": {
    "id": "LZnNddOoJ7LV"
   },
   "source": [
    "> Use a set instead."
   ]
  },
  {
   "cell_type": "code",
   "execution_count": 19,
   "metadata": {
    "id": "p1JeR9FNJ7LV"
   },
   "outputs": [
    {
     "name": "stdout",
     "output_type": "stream",
     "text": [
      "{'banana', 'durian', 'chiku', 'apple'}\n"
     ]
    }
   ],
   "source": [
    "store_set = {\"apple\", \"banana\", \"chiku\", \"durian\"}\n",
    "print(store_set)"
   ]
  },
  {
   "cell_type": "code",
   "execution_count": 20,
   "metadata": {
    "id": "VJH2DxR0J7LV"
   },
   "outputs": [
    {
     "data": {
      "text/plain": [
       "set"
      ]
     },
     "execution_count": 20,
     "metadata": {},
     "output_type": "execute_result"
    }
   ],
   "source": [
    "type(store_set)"
   ]
  },
  {
   "cell_type": "code",
   "execution_count": 24,
   "metadata": {
    "id": "If1FhIcgJ7LV"
   },
   "outputs": [
    {
     "data": {
      "text/plain": [
       "'banana'"
      ]
     },
     "execution_count": 24,
     "metadata": {},
     "output_type": "execute_result"
    }
   ],
   "source": [
    "list(store_set)[0]"
   ]
  },
  {
   "cell_type": "markdown",
   "metadata": {
    "id": "fSAi7ZJFJ7LV"
   },
   "source": [
    "# !! Your Turn !!"
   ]
  },
  {
   "cell_type": "markdown",
   "metadata": {
    "id": "istpka9aJ7LV"
   },
   "source": [
    "## Replace the code marked as <..> COMPLETELY with your own.\n",
    "For example:\n",
    "length = <..> will be replaced by length = 10"
   ]
  },
  {
   "cell_type": "markdown",
   "metadata": {
    "id": "Kmfo_yvwJ7LV"
   },
   "source": [
    "# Question 1\n",
    "1) Store [2,4,6,8,10] into a variable data<br/>\n",
    "2) Print out the 1st element in this list."
   ]
  },
  {
   "cell_type": "code",
   "execution_count": 25,
   "metadata": {
    "id": "XU2dMdUgJ7LW"
   },
   "outputs": [
    {
     "name": "stdout",
     "output_type": "stream",
     "text": [
      "2\n"
     ]
    }
   ],
   "source": [
    "data = [2,4,6,8,10] \n",
    "print(data[-5]) #You should see the output 2"
   ]
  },
  {
   "cell_type": "markdown",
   "metadata": {
    "id": "GTnmC3G-J7LW"
   },
   "source": [
    "# Question 2"
   ]
  },
  {
   "cell_type": "markdown",
   "metadata": {
    "id": "rAzBjT_-J7LW"
   },
   "source": [
    "1) Store [1,3,5,7,9] into a variable data2<br/>\n",
    "2) Print out the 3rd element in this list."
   ]
  },
  {
   "cell_type": "code",
   "execution_count": 26,
   "metadata": {
    "id": "SP7gNFeOJ7LW"
   },
   "outputs": [
    {
     "name": "stdout",
     "output_type": "stream",
     "text": [
      "5\n"
     ]
    }
   ],
   "source": [
    "data2 = [1,3,5,7,9]\n",
    "print(data2[-3]) #You should see the output 5"
   ]
  },
  {
   "cell_type": "markdown",
   "metadata": {
    "id": "arokk4eiJ7LW"
   },
   "source": [
    "# Question 3\n",
    "1) Concatenate the two lists <b>data</b> and <b>data2</b> together into a variable, <b>data3</b>.<br/>\n",
    "2) Print them out.<br/>"
   ]
  },
  {
   "cell_type": "code",
   "execution_count": 27,
   "metadata": {
    "id": "MEcp2cBnJ7LW"
   },
   "outputs": [
    {
     "name": "stdout",
     "output_type": "stream",
     "text": [
      "[2, 4, 6, 8, 10, 2, 4, 6, 8, 10]\n"
     ]
    }
   ],
   "source": [
    "data3 = data + data\n",
    "print(data3)"
   ]
  },
  {
   "cell_type": "markdown",
   "metadata": {
    "id": "CWNLCs6qJ7LW"
   },
   "source": [
    "3) If they are not in the correct running sequence, sort them.<br/>\n",
    "4) Print it out"
   ]
  },
  {
   "cell_type": "code",
   "execution_count": 28,
   "metadata": {
    "id": "RQko4xNcJ7LX"
   },
   "outputs": [
    {
     "name": "stdout",
     "output_type": "stream",
     "text": [
      "[2, 2, 4, 4, 6, 6, 8, 8, 10, 10]\n"
     ]
    }
   ],
   "source": [
    "data3.sort()\n",
    "print(data3)"
   ]
  },
  {
   "cell_type": "markdown",
   "metadata": {
    "id": "VqTaiYZkJ7Lb"
   },
   "source": [
    "# Question 4\n",
    "\n",
    "Let's try out mathematical operators on the lists and see if they work. <br/>\n",
    "1) Multiply the list, <b>data3</b>, by 2. What do you see?<br/>"
   ]
  },
  {
   "cell_type": "code",
   "execution_count": 29,
   "metadata": {
    "id": "PJFpqcNxJ7Lb"
   },
   "outputs": [
    {
     "name": "stdout",
     "output_type": "stream",
     "text": [
      "[2, 2, 4, 4, 6, 6, 8, 8, 10, 10, 2, 2, 4, 4, 6, 6, 8, 8, 10, 10]\n"
     ]
    }
   ],
   "source": [
    "print(data3 * 2)"
   ]
  },
  {
   "cell_type": "markdown",
   "metadata": {
    "id": "A_HcqxnvJ7Lc"
   },
   "source": [
    "<i>Tips: Try out the other mathematical operators in the boxes below. Some may not work and may produce errors</i> "
   ]
  },
  {
   "cell_type": "code",
   "execution_count": 31,
   "metadata": {
    "id": "Hx-W3EiTJ7Lc"
   },
   "outputs": [
    {
     "ename": "TypeError",
     "evalue": "can only concatenate list (not \"int\") to list",
     "output_type": "error",
     "traceback": [
      "\u001b[1;31m---------------------------------------------------------------------------\u001b[0m",
      "\u001b[1;31mTypeError\u001b[0m                                 Traceback (most recent call last)",
      "Cell \u001b[1;32mIn[31], line 2\u001b[0m\n\u001b[0;32m      1\u001b[0m \u001b[38;5;66;03m#use +\u001b[39;00m\n\u001b[1;32m----> 2\u001b[0m \u001b[38;5;28mprint\u001b[39m(\u001b[43mdata3\u001b[49m\u001b[43m \u001b[49m\u001b[38;5;241;43m+\u001b[39;49m\u001b[43m \u001b[49m\u001b[38;5;241;43m4\u001b[39;49m)\n",
      "\u001b[1;31mTypeError\u001b[0m: can only concatenate list (not \"int\") to list"
     ]
    }
   ],
   "source": [
    "#use +\n",
    "print(data3 + 4)"
   ]
  },
  {
   "cell_type": "code",
   "execution_count": 32,
   "metadata": {
    "id": "t-ZhLkpVJ7Ld"
   },
   "outputs": [
    {
     "ename": "TypeError",
     "evalue": "unsupported operand type(s) for -: 'list' and 'int'",
     "output_type": "error",
     "traceback": [
      "\u001b[1;31m---------------------------------------------------------------------------\u001b[0m",
      "\u001b[1;31mTypeError\u001b[0m                                 Traceback (most recent call last)",
      "Cell \u001b[1;32mIn[32], line 2\u001b[0m\n\u001b[0;32m      1\u001b[0m \u001b[38;5;66;03m#use -\u001b[39;00m\n\u001b[1;32m----> 2\u001b[0m \u001b[38;5;28mprint\u001b[39m(\u001b[43mdata3\u001b[49m\u001b[43m \u001b[49m\u001b[38;5;241;43m-\u001b[39;49m\u001b[43m \u001b[49m\u001b[38;5;241;43m4\u001b[39;49m)\n",
      "\u001b[1;31mTypeError\u001b[0m: unsupported operand type(s) for -: 'list' and 'int'"
     ]
    }
   ],
   "source": [
    "#use -\n",
    "print(data3 - 4)"
   ]
  },
  {
   "cell_type": "code",
   "execution_count": 33,
   "metadata": {
    "id": "kVYcn9LGJ7Ld"
   },
   "outputs": [
    {
     "ename": "TypeError",
     "evalue": "unsupported operand type(s) for /: 'list' and 'int'",
     "output_type": "error",
     "traceback": [
      "\u001b[1;31m---------------------------------------------------------------------------\u001b[0m",
      "\u001b[1;31mTypeError\u001b[0m                                 Traceback (most recent call last)",
      "Cell \u001b[1;32mIn[33], line 2\u001b[0m\n\u001b[0;32m      1\u001b[0m \u001b[38;5;66;03m#use /\u001b[39;00m\n\u001b[1;32m----> 2\u001b[0m \u001b[38;5;28mprint\u001b[39m(\u001b[43mdata3\u001b[49m\u001b[43m \u001b[49m\u001b[38;5;241;43m/\u001b[39;49m\u001b[43m \u001b[49m\u001b[38;5;241;43m4\u001b[39;49m)\n",
      "\u001b[1;31mTypeError\u001b[0m: unsupported operand type(s) for /: 'list' and 'int'"
     ]
    }
   ],
   "source": [
    "#use /\n",
    "print(data3 / 4)"
   ]
  },
  {
   "cell_type": "markdown",
   "metadata": {
    "id": "xdcrpqawJ7Ld"
   },
   "source": [
    "<i>This shows that you cannot apply mathematical operators to a list the way you would to numeric data types.</i> "
   ]
  },
  {
   "cell_type": "markdown",
   "metadata": {
    "id": "Gwzc3Rv9J7Ld"
   },
   "source": [
    "# Question 5\n",
    "1) Create a variable, <b>storage</b>, that stores the following:<br/><br/>\n",
    "table<br/>\n",
    "chair<br/>\n",
    "fridge<br/>\n",
    "washing machine<br/><br/>\n",
    "2) print out the variable storage and verify the contents.\n",
    "Hint: You should see ['table', 'chair', 'fridge', 'washing machine']"
   ]
  },
  {
   "cell_type": "code",
   "execution_count": 34,
   "metadata": {
    "id": "SGJdS0tbJ7Ld"
   },
   "outputs": [
    {
     "name": "stdout",
     "output_type": "stream",
     "text": [
      "['table', 'chair', 'fridge', 'washing machine']\n"
     ]
    }
   ],
   "source": [
    "storage = ['table','chair','fridge','washing machine']\n",
    "print(storage)"
   ]
  },
  {
   "cell_type": "markdown",
   "metadata": {
    "id": "Irimd-58J7Le"
   },
   "source": [
    "# Question 6\n",
    "1) You can add \"aircon\" into storage by doing <b>storage.append(\"aircon\")</b>.<br/>\n",
    "2) Do that, and print out the new storage variable to verify that \"aircon\" has been added.<br/>\n",
    "Hint: You should see ['table', 'chair', 'fridge', 'washing machine', 'aircon']"
   ]
  },
  {
   "cell_type": "code",
   "execution_count": 35,
   "metadata": {
    "id": "qs8JCsgbJ7Le"
   },
   "outputs": [
    {
     "name": "stdout",
     "output_type": "stream",
     "text": [
      "['table', 'chair', 'fridge', 'washing machine', 'aircon']\n"
     ]
    }
   ],
   "source": [
    "storage = storage\n",
    "storage.append(\"aircon\")\n",
    "print(storage)"
   ]
  },
  {
   "cell_type": "markdown",
   "metadata": {
    "id": "JiYRJ-L9J7Le"
   },
   "source": [
    "# Question 7\n",
    "1) You can remove \"chair\" from storage by doing <b>storage.remove(\"chair\")</b>.<br/>\n",
    "2) Do that, and print out the new storage variable to verify that \"chair\" has been removed.<br/>\n",
    "Hint: You should see ['table', 'fridge', 'washing machine', 'aircon']"
   ]
  },
  {
   "cell_type": "code",
   "execution_count": 36,
   "metadata": {
    "id": "xSZ_DZjZJ7Le"
   },
   "outputs": [
    {
     "name": "stdout",
     "output_type": "stream",
     "text": [
      "['table', 'fridge', 'washing machine', 'aircon']\n"
     ]
    }
   ],
   "source": [
    "storage.remove(\"chair\")\n",
    "print(storage)"
   ]
  },
  {
   "cell_type": "markdown",
   "metadata": {
    "id": "fVgM3G8UJ7Le"
   },
   "source": [
    "# Question 8\n",
    "1) <b>|value| in storage</b> allows you to check whether an item is inside the list.<br/>\n",
    "2) For example, <b>\"table\" in storage</b> will return true.<br/>\n",
    "3) Write the code to check if the item \"fridge\" is inside storage.<br/>"
   ]
  },
  {
   "cell_type": "code",
   "execution_count": 38,
   "metadata": {
    "id": "esvGh6vbJ7Le"
   },
   "outputs": [
    {
     "name": "stdout",
     "output_type": "stream",
     "text": [
      "True\n"
     ]
    }
   ],
   "source": [
    "storage = storage\n",
    "print('table' in storage)"
   ]
  },
  {
   "cell_type": "markdown",
   "metadata": {
    "id": "27Wzeq4gJ7Lf"
   },
   "source": [
    "# Question 9\n",
    "1) Create a dictionary, <b>postal_to_town</b> that stores the following key-value pairs.<br/>\n",
    "760702 --> Yishun\n",
    "530406 --> Hougang\n",
    "600212 --> Jurong East"
   ]
  },
  {
   "cell_type": "code",
   "execution_count": 39,
   "metadata": {
    "id": "FJ7dUqXLJ7Lf"
   },
   "outputs": [],
   "source": [
    "postal_to_town = {\n",
    "    '760702': 'Yishun',\n",
    "    '530406': 'Hougang',\n",
    "    '600212': 'Jurong East'\n",
    "}"
   ]
  },
  {
   "cell_type": "markdown",
   "metadata": {
    "id": "MF5UYRfoJ7Lf"
   },
   "source": [
    "2) Print out the town by referencing postal '760702'<br/>\n",
    "You should see Yishun"
   ]
  },
  {
   "cell_type": "code",
   "execution_count": 40,
   "metadata": {
    "id": "wSXzN23cJ7Lf"
   },
   "outputs": [
    {
     "data": {
      "text/plain": [
       "'Yishun'"
      ]
     },
     "execution_count": 40,
     "metadata": {},
     "output_type": "execute_result"
    }
   ],
   "source": [
    "postal_to_town['760702']"
   ]
  },
  {
   "cell_type": "markdown",
   "metadata": {
    "id": "Zq1go7c-J7Lg"
   },
   "source": [
    "3) Print out the town by referencing postal '530406'<br/>\n",
    "You should see Hougang"
   ]
  },
  {
   "cell_type": "code",
   "execution_count": 41,
   "metadata": {
    "id": "GQGKv83dJ7Lg"
   },
   "outputs": [
    {
     "data": {
      "text/plain": [
       "'Hougang'"
      ]
     },
     "execution_count": 41,
     "metadata": {},
     "output_type": "execute_result"
    }
   ],
   "source": [
    "postal_to_town['530406']"
   ]
  },
  {
   "cell_type": "markdown",
   "metadata": {
    "id": "NwBpV9AxJ7Lg"
   },
   "source": [
    "4) Print out the town by referencing postal '600212'<br/>\n",
    "You should see Jurong East"
   ]
  },
  {
   "cell_type": "code",
   "execution_count": 42,
   "metadata": {
    "id": "bZy5YGoFJ7Lg"
   },
   "outputs": [
    {
     "data": {
      "text/plain": [
       "'Jurong East'"
      ]
     },
     "execution_count": 42,
     "metadata": {},
     "output_type": "execute_result"
    }
   ],
   "source": [
    "postal_to_town['600212']"
   ]
  },
  {
   "cell_type": "markdown",
   "metadata": {
    "id": "ga6SzvmqJ7Lh"
   },
   "source": [
    "4) Print out the town by referencing postal '138577'<br/>\n",
    "What do you see?"
   ]
  },
  {
   "cell_type": "code",
   "execution_count": 43,
   "metadata": {
    "id": "VPZSldxqJ7Lh"
   },
   "outputs": [
    {
     "ename": "KeyError",
     "evalue": "'138577'",
     "output_type": "error",
     "traceback": [
      "\u001b[1;31m---------------------------------------------------------------------------\u001b[0m",
      "\u001b[1;31mKeyError\u001b[0m                                  Traceback (most recent call last)",
      "Cell \u001b[1;32mIn[43], line 1\u001b[0m\n\u001b[1;32m----> 1\u001b[0m \u001b[43mpostal_to_town\u001b[49m\u001b[43m[\u001b[49m\u001b[38;5;124;43m'\u001b[39;49m\u001b[38;5;124;43m138577\u001b[39;49m\u001b[38;5;124;43m'\u001b[39;49m\u001b[43m]\u001b[49m\n",
      "\u001b[1;31mKeyError\u001b[0m: '138577'"
     ]
    }
   ],
   "source": [
    "postal_to_town['138577']"
   ]
  },
  {
   "cell_type": "markdown",
   "metadata": {
    "id": "2PQ8btwrJ7Lh"
   },
   "source": [
    "# Question 10*"
   ]
  },
  {
   "cell_type": "markdown",
   "metadata": {
    "id": "8UP5NiACJ7Lh"
   },
   "source": [
    "1) Decide on a data type to use for the following use case: <br/>\n",
    "- I want to read in values and store them as I read them in sequentially.<br/>\n",
    "- Order matters.<br/>\n",
    "- Repeated values are ok.<br/>\n",
    "- I want to be able to remove some of the items too.<br/>\n",
    "\n",
    "2) When you have decided, create such a variable called <b>zoo2</b> and store the following values into it:<br/>\n",
    "- lion<br/>\n",
    "- tiger<br/>\n",
    "- giraffe<br/>\n",
    "- hippo<br/>\n",
    "- monkey<br/>"
   ]
  },
  {
   "cell_type": "code",
   "execution_count": 66,
   "metadata": {
    "id": "LN-rSWd_J7Lh"
   },
   "outputs": [],
   "source": [
    "zoo2 = ['lion','tiger','giraffe','hippo','monkey']"
   ]
  },
  {
   "cell_type": "markdown",
   "metadata": {
    "id": "lQXqy6dZJ7Lh"
   },
   "source": [
    "3) Write code into the cell below such that you will prompt the user to tell you an animal, then store it into the existing data in the variable <b>zoo2</b>.<br/>\n",
    "4) Then, run the cell below 3 times, and input the following values:<br/>\n",
    "- bird<br/>\n",
    "- panda<br/>\n",
    "- monkey<br/>"
   ]
  },
  {
   "cell_type": "code",
   "execution_count": 67,
   "metadata": {
    "id": "5L3xBd7aJ7Li"
   },
   "outputs": [
    {
     "name": "stdout",
     "output_type": "stream",
     "text": [
      "Enter animal: bird\n",
      "Enter animal: panda\n",
      "Enter animal: monkey\n"
     ]
    }
   ],
   "source": [
    "i=1\n",
    "while i < 4:\n",
    "    i += 1\n",
    "    zoo2.append(input(\"Enter animal: \"))"
   ]
  },
  {
   "cell_type": "markdown",
   "metadata": {
    "id": "WFa1RVJRJ7Li"
   },
   "source": [
    "5) Print out the variable <b>zoo2</b>. It should contain the following in order:<br/>\n",
    "- lion<br/>\n",
    "- tiger<br>\n",
    "- giraffe<br>\n",
    "- hippo<br>\n",
    "- monkey<br>\n",
    "- bird<br>\n",
    "- panda<br>\n",
    "- monkey<br>"
   ]
  },
  {
   "cell_type": "code",
   "execution_count": 68,
   "metadata": {
    "id": "VytKxfznJ7Li"
   },
   "outputs": [
    {
     "data": {
      "text/plain": [
       "['lion', 'tiger', 'giraffe', 'hippo', 'monkey', 'bird', 'panda', 'monkey']"
      ]
     },
     "execution_count": 68,
     "metadata": {},
     "output_type": "execute_result"
    }
   ],
   "source": [
    "zoo2"
   ]
  },
  {
   "cell_type": "markdown",
   "metadata": {
    "id": "QH01DD9zJ7Li"
   },
   "source": [
    "6) Write code into the cell below such that you will prompt the user to tell you an animal, then remove it from the existing data in the variable <b>zoo2</b>.<br/>\n",
    "7) Then, run the cell below 3 times, and input the following values:<br/>\n",
    "- tiger<br/>\n",
    "- monkey<br/>\n",
    "- giraffe<br/>"
   ]
  },
  {
   "cell_type": "code",
   "execution_count": 69,
   "metadata": {
    "id": "8KTjUeroJ7Li"
   },
   "outputs": [
    {
     "name": "stdout",
     "output_type": "stream",
     "text": [
      "Enter animal to remove: tiger\n",
      "tiger has been removed\n",
      "Enter animal to remove: monkey\n",
      "monkey has been removed\n",
      "Enter animal to remove: giraffe\n",
      "giraffe has been removed\n"
     ]
    }
   ],
   "source": [
    "i=1\n",
    "while i < 4:\n",
    "    i += 1\n",
    "    to_remove = input(\"Enter animal to remove: \")\n",
    "    if (to_remove in zoo2) == True:\n",
    "        zoo2.remove(to_remove)\n",
    "        print(f'{to_remove} has been removed')\n",
    "    else:\n",
    "        print(f'{to_remove} does not exist in zoo2')"
   ]
  },
  {
   "cell_type": "markdown",
   "metadata": {
    "id": "dCg7bV8jJ7Li"
   },
   "source": [
    "8) Print out the variable <b>zoo2</b>. It should contain the following in order:<br/>\n",
    "- lion<br/>\n",
    "- hippo<br>\n",
    "- bird<br>\n",
    "- panda<br>\n",
    "- monkey<br>"
   ]
  },
  {
   "cell_type": "code",
   "execution_count": 70,
   "metadata": {
    "id": "SYK6ycGZJ7Lj"
   },
   "outputs": [
    {
     "data": {
      "text/plain": [
       "['lion', 'hippo', 'bird', 'panda', 'monkey']"
      ]
     },
     "execution_count": 70,
     "metadata": {},
     "output_type": "execute_result"
    }
   ],
   "source": [
    "zoo2"
   ]
  },
  {
   "cell_type": "markdown",
   "metadata": {
    "id": "80XPJEQKJ7Lj"
   },
   "source": [
    "# Question 11 *"
   ]
  },
  {
   "cell_type": "markdown",
   "metadata": {
    "id": "L93NSFStJ7Lj"
   },
   "source": [
    "1) Decide on a data type to use for the following use case: <br/>\n",
    "- I want to read in a pair of key and values and store them.<br/>\n",
    "- Order does not matter.<br/>\n",
    "- Repeated values are ok.<br/>\n",
    "- I want to be able to change some of the values for the keys too.<br/>\n",
    "\n",
    "2) When you have decided, create such a variable called <b>zoo3</b> and store the following key - values into it:<br/>\n",
    "- lion - c<br/>\n",
    "- tiger - h<br/>\n",
    "- giraffe - h<br/>\n",
    "- hippo - h<br/>\n",
    "- monkey - o<br/><br/>\n",
    "<i>Note: key is lion, value is c</i>"
   ]
  },
  {
   "cell_type": "code",
   "execution_count": 76,
   "metadata": {
    "id": "7SLZ_mJaJ7Lk"
   },
   "outputs": [],
   "source": [
    "zoo3 = {'lion':'c','tiger':'h','giraffe':'h','hippo':'h','monkey':'o'}"
   ]
  },
  {
   "cell_type": "markdown",
   "metadata": {
    "id": "BFBLQSMZJ7Lk"
   },
   "source": [
    "3) Write code into the cell below such that you will prompt the user to tell you an animal.<br/>\n",
    "4) Then, run the cell below 1 time, and input the following values:<br/>\n",
    "- bird<br/>"
   ]
  },
  {
   "cell_type": "code",
   "execution_count": 77,
   "metadata": {
    "id": "ZYVq6E_UJ7Lk"
   },
   "outputs": [
    {
     "name": "stdout",
     "output_type": "stream",
     "text": [
      "Enter animal: bird\n"
     ]
    }
   ],
   "source": [
    "animal = input(\"Enter animal: \")"
   ]
  },
  {
   "cell_type": "markdown",
   "metadata": {
    "id": "02bbOHAlJ7Lk"
   },
   "source": [
    "5) Write code into the cell below such that you will prompt the user to tell you whether the animal is a carnivore, herbivore or omnivore.<br/>\n",
    "The user simply keys in c, h or o.<br/>\n",
    "6) Then, run the cell below 1 time, and input the following values:<br/>\n",
    "- o<br/>"
   ]
  },
  {
   "cell_type": "code",
   "execution_count": 78,
   "metadata": {
    "id": "kCX-CAwGJ7Ll"
   },
   "outputs": [
    {
     "name": "stdout",
     "output_type": "stream",
     "text": [
      "Enter animal's dietary preference: o\n"
     ]
    }
   ],
   "source": [
    "dietary_preference = input(\"Enter animal's dietary preference: \")"
   ]
  },
  {
   "cell_type": "markdown",
   "metadata": {
    "id": "ltHxaY0DJ7Ll"
   },
   "source": [
    "7) Add the new animal and its dietary preference into <b>zoo3</b>.<br/>\n",
    "Print out <b>zoo3</b>."
   ]
  },
  {
   "cell_type": "code",
   "execution_count": 79,
   "metadata": {
    "id": "fsYg5H8bJ7Ll"
   },
   "outputs": [
    {
     "data": {
      "text/plain": [
       "{'lion': 'c',\n",
       " 'tiger': 'h',\n",
       " 'giraffe': 'h',\n",
       " 'hippo': 'h',\n",
       " 'monkey': 'o',\n",
       " 'bird': 'o'}"
      ]
     },
     "execution_count": 79,
     "metadata": {},
     "output_type": "execute_result"
    }
   ],
   "source": [
    "zoo3[animal] = dietary_preference\n",
    "zoo3"
   ]
  },
  {
   "cell_type": "markdown",
   "metadata": {
    "id": "oDZU0ifQJ7Ll"
   },
   "source": [
    "8) You realised you made a mistake with the dietary preference for the tiger earlier on. Write the code to change it from an 'h' to a 'c'.<br/>\n",
    "Print out <b>zoo3</b>."
   ]
  },
  {
   "cell_type": "code",
   "execution_count": 80,
   "metadata": {
    "id": "pQjbQfRDJ7Ll"
   },
   "outputs": [
    {
     "data": {
      "text/plain": [
       "{'lion': 'c',\n",
       " 'tiger': 'c',\n",
       " 'giraffe': 'h',\n",
       " 'hippo': 'h',\n",
       " 'monkey': 'o',\n",
       " 'bird': 'o'}"
      ]
     },
     "execution_count": 80,
     "metadata": {},
     "output_type": "execute_result"
    }
   ],
   "source": [
    "zoo3.update({'tiger':'c'})\n",
    "zoo3"
   ]
  }
 ],
 "metadata": {
  "colab": {
   "provenance": []
  },
  "kernelspec": {
   "display_name": "Python 3 (ipykernel)",
   "language": "python",
   "name": "python3"
  },
  "language_info": {
   "codemirror_mode": {
    "name": "ipython",
    "version": 3
   },
   "file_extension": ".py",
   "mimetype": "text/x-python",
   "name": "python",
   "nbconvert_exporter": "python",
   "pygments_lexer": "ipython3",
   "version": "3.10.11"
  }
 },
 "nbformat": 4,
 "nbformat_minor": 1
}
