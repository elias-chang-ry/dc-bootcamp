{
  "cells": [
    {
      "cell_type": "markdown",
      "metadata": {
        "id": "MfmB1H49dDlv"
      },
      "source": [
        "# Mathematical Operations"
      ]
    },
    {
      "cell_type": "markdown",
      "metadata": {
        "id": "NBPxoJyOdDlw"
      },
      "source": [
        "## Run The Following Code\n",
        "Hit SHIFT + ENTER when your cusor is inside the cell of code.<br/>"
      ]
    },
    {
      "cell_type": "markdown",
      "metadata": {
        "id": "a4IduQZVdDlw"
      },
      "source": [
        "> This is how you do 1 + 1. The output value shows the result of your code"
      ]
    },
    {
      "cell_type": "code",
      "execution_count": null,
      "metadata": {
        "id": "UJYq3_uMdDlw"
      },
      "outputs": [],
      "source": [
        "1+1"
      ]
    },
    {
      "cell_type": "markdown",
      "metadata": {
        "id": "H-sKl5jvdDlw"
      },
      "source": [
        "> Try out a number subtracted by another number. The symbol for subtraction is -"
      ]
    },
    {
      "cell_type": "code",
      "execution_count": null,
      "metadata": {
        "id": "wjKGZMZfdDlx"
      },
      "outputs": [],
      "source": [
        "10 - 8"
      ]
    },
    {
      "cell_type": "markdown",
      "metadata": {
        "id": "0DvIEV4JdDlx"
      },
      "source": [
        "> Try out a number multiplied by another number. The symbol for multiply is *"
      ]
    },
    {
      "cell_type": "code",
      "execution_count": null,
      "metadata": {
        "id": "hnBuCIdYdDlx"
      },
      "outputs": [],
      "source": [
        "5 * 2"
      ]
    },
    {
      "cell_type": "markdown",
      "metadata": {
        "id": "l-UoW-V_dDlx"
      },
      "source": [
        "> Try out a number divided by another number. The symbol for division is /"
      ]
    },
    {
      "cell_type": "code",
      "execution_count": null,
      "metadata": {
        "id": "k2EKv3uOdDlx"
      },
      "outputs": [],
      "source": [
        "10 / 3"
      ]
    },
    {
      "cell_type": "markdown",
      "metadata": {
        "id": "zZAiTPaBdDly"
      },
      "source": [
        "> Try out a number raised to the power of another number. The symbol for to the power of is **"
      ]
    },
    {
      "cell_type": "code",
      "execution_count": null,
      "metadata": {
        "id": "L-YKmdnjdDly"
      },
      "outputs": [],
      "source": [
        "2**3\n"
      ]
    },
    {
      "cell_type": "markdown",
      "metadata": {
        "id": "Nc7FCXW2dDly"
      },
      "source": [
        "> How do you find the square root of 4, by using \"the power of\""
      ]
    },
    {
      "cell_type": "code",
      "execution_count": null,
      "metadata": {
        "id": "hEdmz8urdDly"
      },
      "outputs": [],
      "source": [
        "4**0.5"
      ]
    },
    {
      "cell_type": "markdown",
      "metadata": {
        "id": "2jueMIAmdDly"
      },
      "source": [
        "> Use brackets ( ) to create a long and complicated mathematical expression. Verify that this is what you expect."
      ]
    },
    {
      "cell_type": "code",
      "execution_count": null,
      "metadata": {
        "id": "4CBJcatDdDly"
      },
      "outputs": [],
      "source": []
    },
    {
      "cell_type": "markdown",
      "metadata": {
        "id": "Z_2x4_eDdDly"
      },
      "source": [
        "# Variables And Data Types"
      ]
    },
    {
      "cell_type": "markdown",
      "metadata": {
        "id": "cpRXYmLDdDly"
      },
      "source": [
        "## Run The Following Code\n",
        "Hit SHIFT + ENTER when your cusor is inside the cell of code.<br/>"
      ]
    },
    {
      "cell_type": "markdown",
      "metadata": {
        "id": "LOgyAk0mdDly"
      },
      "source": [
        "> Declare a variable called <b>name</b> and give it a value <b>\"John\"</b>"
      ]
    },
    {
      "cell_type": "code",
      "execution_count": null,
      "metadata": {
        "id": "wEiFKkgWdDlz"
      },
      "outputs": [],
      "source": [
        "name = \"John\""
      ]
    },
    {
      "cell_type": "markdown",
      "metadata": {
        "id": "FHnUaMJrdDlz"
      },
      "source": [
        "> Print out what is the value of the variable <b>name</b>"
      ]
    },
    {
      "cell_type": "code",
      "execution_count": null,
      "metadata": {
        "id": "pFM2WMD3dDlz"
      },
      "outputs": [],
      "source": [
        "print(name)"
      ]
    },
    {
      "cell_type": "markdown",
      "metadata": {
        "id": "UygjxmkbdDlz"
      },
      "source": [
        "> Print out what is the data type of the variable <b>name</b>"
      ]
    },
    {
      "cell_type": "code",
      "execution_count": null,
      "metadata": {
        "id": "IUgJqsXwdDlz"
      },
      "outputs": [],
      "source": [
        "type(name)"
      ]
    },
    {
      "cell_type": "markdown",
      "metadata": {
        "id": "RvyYJNPZdDlz"
      },
      "source": [
        "> Declare a variable called <b>height</b> and give it a value <b>180</b>"
      ]
    },
    {
      "cell_type": "code",
      "execution_count": null,
      "metadata": {
        "id": "u4GNOxKpdDlz"
      },
      "outputs": [],
      "source": [
        "height = 180"
      ]
    },
    {
      "cell_type": "markdown",
      "metadata": {
        "id": "sJqaAamxdDlz"
      },
      "source": [
        "> Print out what is the value of the variable <b>height</b>"
      ]
    },
    {
      "cell_type": "code",
      "execution_count": null,
      "metadata": {
        "scrolled": true,
        "id": "OQtqd5F4dDlz"
      },
      "outputs": [],
      "source": [
        "print(height)"
      ]
    },
    {
      "cell_type": "markdown",
      "metadata": {
        "id": "DE0LlbVkdDlz"
      },
      "source": [
        "> Print out what is the data type of the variable <b>height</b>"
      ]
    },
    {
      "cell_type": "code",
      "execution_count": null,
      "metadata": {
        "id": "svSlC7M7dDlz"
      },
      "outputs": [],
      "source": [
        "type(height)"
      ]
    },
    {
      "cell_type": "markdown",
      "metadata": {
        "id": "iaBIML50dDlz"
      },
      "source": [
        "> Declare a variable called <b>weight</b> and give it a value <b>80.6</b>"
      ]
    },
    {
      "cell_type": "code",
      "execution_count": null,
      "metadata": {
        "id": "MYUB1HqAdDl0"
      },
      "outputs": [],
      "source": [
        "weight = 80.6"
      ]
    },
    {
      "cell_type": "markdown",
      "metadata": {
        "id": "MLLpkA4SdDl0"
      },
      "source": [
        "> Print out what is the value of the variable <b>weight</b>"
      ]
    },
    {
      "cell_type": "code",
      "execution_count": null,
      "metadata": {
        "scrolled": true,
        "id": "KtDhSBwtdDl0"
      },
      "outputs": [],
      "source": [
        "print(weight)"
      ]
    },
    {
      "cell_type": "markdown",
      "metadata": {
        "id": "s1e1C2NldDl0"
      },
      "source": [
        "> Print out what is the data type of the variable <b>weight</b>"
      ]
    },
    {
      "cell_type": "code",
      "execution_count": null,
      "metadata": {
        "id": "dIvcHprbdDl0"
      },
      "outputs": [],
      "source": [
        "type(weight)"
      ]
    },
    {
      "cell_type": "markdown",
      "metadata": {
        "id": "WO2klaszdDl0"
      },
      "source": [
        "> Note that you cannot start variable names with numbers. The following code will give an error."
      ]
    },
    {
      "cell_type": "code",
      "execution_count": null,
      "metadata": {
        "id": "syTSkmXBdDl0"
      },
      "outputs": [],
      "source": [
        "1_name = \"John\""
      ]
    },
    {
      "cell_type": "markdown",
      "metadata": {
        "id": "ZajpO4K6dDl0"
      },
      "source": [
        "> Note that you cannot start variable names with some reserved words. The following code will give an error."
      ]
    },
    {
      "cell_type": "code",
      "execution_count": null,
      "metadata": {
        "id": "LcpyTpRkdDl0"
      },
      "outputs": [],
      "source": [
        "def = \"John\""
      ]
    },
    {
      "cell_type": "markdown",
      "metadata": {
        "id": "B5thspDFdDl0"
      },
      "source": [
        "# !! Your Turn !!"
      ]
    },
    {
      "cell_type": "markdown",
      "metadata": {
        "id": "RxPgLjPmdDl0"
      },
      "source": [
        "## Replace the code marked as <..> COMPLETELY with your own.\n",
        "For example:\n",
        "length = <..> will be replaced by length = 10"
      ]
    },
    {
      "cell_type": "markdown",
      "metadata": {
        "id": "7I8w-4QwdDl0"
      },
      "source": [
        "# Question 1\n",
        "1) Declare a variable length<br/>\n",
        "2) Assign a value of 10 to it<br/>\n",
        "3) Print out the variable length<br/>"
      ]
    },
    {
      "cell_type": "code",
      "execution_count": null,
      "metadata": {
        "id": "9BAt1wlCdDl0"
      },
      "outputs": [],
      "source": [
        "length = <..>\n",
        "print(<..>)"
      ]
    },
    {
      "cell_type": "markdown",
      "metadata": {
        "id": "i8cG-5MidDl1"
      },
      "source": [
        "# Question 2\n",
        "1) Declare a variable breadth<br/>\n",
        "2) Assign a value of 5 to it<br/>\n",
        "3) Print out the variable breadth<br/>"
      ]
    },
    {
      "cell_type": "code",
      "execution_count": null,
      "metadata": {
        "id": "lr_gunXVdDl1"
      },
      "outputs": [],
      "source": [
        "<..> = <..>\n",
        "print(<..>)"
      ]
    },
    {
      "cell_type": "markdown",
      "metadata": {
        "id": "1xoXoEpKdDl1"
      },
      "source": [
        "# Question 3\n",
        "1) Declare a variable area<br/>\n",
        "2) Calculate the area using the formula area = length * breadth<br/>\n",
        "3) Print out the variable area<br/>"
      ]
    },
    {
      "cell_type": "code",
      "execution_count": null,
      "metadata": {
        "id": "sLqmXlyAdDl1"
      },
      "outputs": [],
      "source": [
        "<..> = <..> * <..>\n",
        "print(<..>)"
      ]
    },
    {
      "cell_type": "markdown",
      "metadata": {
        "id": "4p__-K-adDl1"
      },
      "source": [
        "# Question 4\n",
        "1) Declare a variable number_of_eggs<br/>\n",
        "2) Store a value of 20<br/>\n",
        "3) Print out the variable number_of_eggs<br/>"
      ]
    },
    {
      "cell_type": "code",
      "execution_count": null,
      "metadata": {
        "id": "9ef9rjQtdDl1"
      },
      "outputs": [],
      "source": [
        "<..> = <..>\n",
        "print(<..>)"
      ]
    },
    {
      "cell_type": "markdown",
      "metadata": {
        "id": "ejoua4wbdDl1"
      },
      "source": [
        "# Question 5\n",
        "1) Declare a variable number_of_people<br/>\n",
        "2) Store a value of 3<br/>\n",
        "3) Print out the variable number_of_people<br/>"
      ]
    },
    {
      "cell_type": "code",
      "execution_count": null,
      "metadata": {
        "scrolled": true,
        "id": "VW65w8hSdDl1"
      },
      "outputs": [],
      "source": [
        "<..> = 3\n",
        "print(<..>)"
      ]
    },
    {
      "cell_type": "markdown",
      "metadata": {
        "id": "eyqiWPfadDl1"
      },
      "source": [
        "# Question 6\n",
        "1) Declare a variable eggs_per_person<br/>\n",
        "2) Store the result of divide the number_of_eggs by number_of_people into eggs_per_person<br/>\n",
        "2) Print out eggs_per_person<br/>"
      ]
    },
    {
      "cell_type": "code",
      "execution_count": null,
      "metadata": {
        "id": "aDO_KyFfdDl1"
      },
      "outputs": [],
      "source": [
        "<..> = <..> / <..>\n",
        "print(<..>)"
      ]
    },
    {
      "cell_type": "markdown",
      "metadata": {
        "id": "n28DteGadDl1"
      },
      "source": [
        "# Question 7\n",
        "1) I want the value in eggs_per_person to be a whole number<br/> \n",
        "2) % is a special operator in Python that allows you to find the remainder from a division operation.<br/>\n",
        "3) For example, 10 % 3 will return 1<br/>\n",
        "4) Declare a variable <b>remainder</b> to store the value when number_of_eggs is divided by number_of_people<br/>"
      ]
    },
    {
      "cell_type": "code",
      "execution_count": null,
      "metadata": {
        "id": "1qrG5FF4dDl1"
      },
      "outputs": [],
      "source": [
        "remainder = <..> % <..>"
      ]
    },
    {
      "cell_type": "markdown",
      "metadata": {
        "id": "lKu-fKNudDl1"
      },
      "source": [
        "# Question 8\n",
        "1) Since we have found out the remainder, remove that remainder from the number_of_eggs<br/>\n",
        "2) Then divide the outcome by number_of_people to find out how many eggs each person gets<br/>\n",
        "3) Do this as a single operation<br/>\n",
        "4) Print out --> Each person gets 6.0 eggs.<br/>"
      ]
    },
    {
      "cell_type": "code",
      "execution_count": null,
      "metadata": {
        "id": "5covjzHYdDl1"
      },
      "outputs": [],
      "source": [
        "eggs_per_person = (<..> - <..>) / <..>\n",
        "print(\"Each person gets\",eggs_per_person)"
      ]
    }
  ],
  "metadata": {
    "kernelspec": {
      "display_name": "Python 3 (ipykernel)",
      "language": "python",
      "name": "python3"
    },
    "language_info": {
      "codemirror_mode": {
        "name": "ipython",
        "version": 3
      },
      "file_extension": ".py",
      "mimetype": "text/x-python",
      "name": "python",
      "nbconvert_exporter": "python",
      "pygments_lexer": "ipython3",
      "version": "3.9.7"
    },
    "colab": {
      "provenance": []
    }
  },
  "nbformat": 4,
  "nbformat_minor": 0
}